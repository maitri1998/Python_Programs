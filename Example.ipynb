{
 "cells": [
  {
   "cell_type": "code",
   "execution_count": 3,
   "id": "fc694f24",
   "metadata": {},
   "outputs": [
    {
     "name": "stdout",
     "output_type": "stream",
     "text": [
      "Enter Your First Value:5\n",
      "Enter Your Second Value :5\n",
      "10\n"
     ]
    }
   ],
   "source": [
    "n1 =int(input(\"Enter Your First Value:\"))\n",
    "n2 = int(input(\"Enter Your secondond Value :\"))\n",
    "add = n1 + n2\n",
    "print(add)"
   ]
  },
  {
   "cell_type": "code",
   "execution_count": 4,
   "id": "03d9ccb0",
   "metadata": {},
   "outputs": [],
   "source": [
    "# prime number : 1-100\n",
    "#prim number : any no which has exactly have 2 factor"
   ]
  },
  {
   "cell_type": "code",
   "execution_count": 5,
   "id": "8aae13c1",
   "metadata": {},
   "outputs": [
    {
     "name": "stdout",
     "output_type": "stream",
     "text": [
      "Enter the no : 5\n",
      "you are not eligible to vote\n"
     ]
    }
   ],
   "source": [
    "num = int(input(\"Enter the no : \"))\n",
    "if(num>=18):\n",
    "    print (f'you are eligible to vote')\n",
    "else:\n",
    "    print(f'you are not eligible to vote')"
   ]
  },
  {
   "cell_type": "code",
   "execution_count": null,
   "id": "2cfa3f25",
   "metadata": {
    "scrolled": true
   },
   "outputs": [],
   "source": [
    "num1= int(input(\"Enter the 1st no : \"))\n",
    "num2= int(input(\"Enter the 2nd no : \"))\n",
    "if(num1>num2):\n",
    "    print(f'1st is greater')\n",
    "else:\n",
    "    print(f'2nd is greater')"
   ]
  },
  {
   "cell_type": "code",
   "execution_count": 1,
   "id": "99c4ec1d",
   "metadata": {},
   "outputs": [
    {
     "name": "stdout",
     "output_type": "stream",
     "text": [
      "Enter the 1st no : 5\n",
      "Enter the 2nd no : 5\n",
      "Enter the 3rd no : 5\n",
      "3rd is greater\n"
     ]
    }
   ],
   "source": [
    "num1= int(input(\"Enter the 1st no : \"))\n",
    "num2= int(input(\"Enter the 2nd no : \"))\n",
    "num3= int(input(\"Enter the 3rd no : \"))\n",
    "if(num1>num2):\n",
    "    if(num1>num3):\n",
    "        print(f'1st is greater')\n",
    "elif (num2>num3):\n",
    "    print(f'2nd is greater')\n",
    "else:\n",
    "    print(f'3rd is greater')"
   ]
  },
  {
   "cell_type": "code",
   "execution_count": null,
   "id": "8701eb68",
   "metadata": {},
   "outputs": [],
   "source": [
    "#volume of sphere : 4/3 * pi *  r*r*r"
   ]
  },
  {
   "cell_type": "code",
   "execution_count": 2,
   "id": "39625915",
   "metadata": {},
   "outputs": [
    {
     "name": "stdout",
     "output_type": "stream",
     "text": [
      "Enter the radius of sphere : 5\n"
     ]
    }
   ],
   "source": [
    "radius_of_sphere = float(input(\"Enter the radius of sphere : \"))\n",
    "volume_of_sphere = (1.33 * 3.14 * radius_of_sphere *  radius_of_sphere *  radius_of_sphere)"
   ]
  },
  {
   "cell_type": "code",
   "execution_count": 3,
   "id": "33ed776c",
   "metadata": {},
   "outputs": [
    {
     "name": "stdout",
     "output_type": "stream",
     "text": [
      "volume of sphere is : 522.0250000000001\n"
     ]
    }
   ],
   "source": [
    "print(f'volume of sphere is : {volume_of_sphere}')"
   ]
  },
  {
   "cell_type": "code",
   "execution_count": 4,
   "id": "4c4d8805",
   "metadata": {},
   "outputs": [
    {
     "name": "stdout",
     "output_type": "stream",
     "text": [
      "Enter the Gender :(Male/Female)male\n",
      "You are Male\n",
      "Enter your age :52\n",
      "Enter the market price :752\n",
      "67.68\n"
     ]
    }
   ],
   "source": [
    "#Example : car Insurance\n",
    "\n",
    "gender = input(\"Enter the Gender :(Male/Female)\")\n",
    "gender = gender.lower()\n",
    "if (gender == \"male\"):\n",
    "    print(\"You are Male\")\n",
    "    __age = int(input(\"Enter your __age :\"))\n",
    "    if(__age<=26):\n",
    "        percent__age = 23\n",
    "    else: \n",
    "        percent__age = 9    \n",
    "elif(gender == \"female\"):\n",
    "    print(\"You are female\")\n",
    "    car_choice = input(\"Which car do you like : (sports/non-sports) \")\n",
    "    if car_choice==\"sports\":\n",
    "        print(\"You like Sports Car :\")\n",
    "        percent__age = 21\n",
    "    else: \n",
    "        print(\"You like Non Sports Car :\")\n",
    "        percent__age = 10\n",
    "else:\n",
    "    print(\"Wrong format\")\n",
    "market_price = int(input(\"Enter the market price :\"))\n",
    "ensurance_offer = (market_price * percent__age * 0.01)\n",
    "print(f'{ensurance_offer}')"
   ]
  },
  {
   "cell_type": "code",
   "execution_count": 5,
   "id": "727a6cb2",
   "metadata": {},
   "outputs": [
    {
     "name": "stdout",
     "output_type": "stream",
     "text": [
      "Enter your username :maitri\n",
      "Enter your Password : sssssss\n",
      "Bhag ja yaha se\n"
     ]
    }
   ],
   "source": [
    "username = input(\"Enter your username :\")\n",
    "Password = input(\"Enter your Password : \")\n",
    "\n",
    "if username == \"pooja@gmail.com\" and Password == \"123456\":\n",
    "    print(\"Welcome pooja! you have sucessfully logged in\")\n",
    "elif username == \"pooja@gmail.com\" and Password != \"123456\":\n",
    "    print(\"Wrong password! Try again\")\n",
    "    PassWord = input(\"Enter your Password Again :\")\n",
    "    if Password == '123456':\n",
    "         print(\"Finally you logged in :\")\n",
    "    else:\n",
    "        print(\"Beta tumse na ho payega\")\n",
    "else:\n",
    "    print(\"Bhag ja yaha se\")"
   ]
  },
  {
   "cell_type": "code",
   "execution_count": 6,
   "id": "a2df7aa9",
   "metadata": {},
   "outputs": [
    {
     "name": "stdout",
     "output_type": "stream",
     "text": [
      "Enter year :6344\n",
      "It is a leap year\n"
     ]
    }
   ],
   "source": [
    "year = int(input(\"Enter year :\"))\n",
    "if ((year%400 == 0 and year%100 != 0 or year% 4 == 0 and year%100 != 0)):\n",
    "    print(\"It is a leap year\")\n",
    "else:\n",
    "    print(\"Its not leap year\")"
   ]
  },
  {
   "cell_type": "code",
   "execution_count": 7,
   "id": "a6ef2e85",
   "metadata": {},
   "outputs": [],
   "source": [
    "#example : in hand monthly salary after deduction on \n",
    "#CTC - HRA(10%)\n",
    "#DA (5%)\n",
    "#pf(3%)\n",
    " \n",
    "# taxes deduction\n",
    "# Salary(lakhs) : tax(%)\n",
    "#     below 5 = 0%\n",
    "#     5-10 = 10%\n",
    "#     10-0 = 20%\n",
    "#     above 20 = 30%"
   ]
  },
  {
   "cell_type": "code",
   "execution_count": 8,
   "id": "71606979",
   "metadata": {},
   "outputs": [
    {
     "name": "stdout",
     "output_type": "stream",
     "text": [
      "Enter your salary :565\n",
      "HRA is:\n",
      "your salary after hra is : 508.5\n",
      "DA is:\n",
      "your salary after da is : 480.25\n",
      "pf is:\n",
      "your salary after pf is : 463.3\n",
      "Your salary is below 5 lakhs\n",
      "Your salary amount is :  463.3\n"
     ]
    }
   ],
   "source": [
    "salary = float(input(\"Enter your salary :\"))\n",
    "hra = salary * 0.10\n",
    "print (\"HRA is:\")\n",
    "amount = (salary-hra)\n",
    "print (\"your salary after hra is :\",amount)\n",
    "da = salary * 0.05\n",
    "print (\"DA is:\")\n",
    "amount = (amount-da)\n",
    "print (\"your salary after da is :\",amount)\n",
    "pf = salary * 0.03\n",
    "print (\"pf is:\")\n",
    "amount = (amount-pf)\n",
    "print (\"your salary after pf is :\",amount)\n",
    "\n",
    "if (salary <= 500000):\n",
    "    print(\"Your salary is below 5 lakhs\") \n",
    "    tax_percent__age = 0\n",
    "elif (salary <= 1000000):\n",
    "    print(\"Your salary is between 5 to 10 lakhs\") \n",
    "    tax_percent__age = 10\n",
    "elif (salary <= 2000000):\n",
    "    print(\"Your salary is between 10 to 20 lakhs\") \n",
    "    tax_percent__age = 20\n",
    "elif (salary > 2000000):\n",
    "    print(\"Your salary is more than 20 lakhs\") \n",
    "    tax_percent__age = 30\n",
    "else:\n",
    "    print(\"Wrong format\")\n",
    "tax_charges= (amount * tax_percent__age * 0.01)\n",
    "final_salary = amount-tax_charges\n",
    "print(\"Your salary amount is : \",final_salary)"
   ]
  },
  {
   "cell_type": "code",
   "execution_count": 9,
   "id": "6ab1c34b",
   "metadata": {},
   "outputs": [
    {
     "name": "stdout",
     "output_type": "stream",
     "text": [
      "Enter Number :152\n",
      "sum of digit are :2\n",
      "sum of digit are :7\n",
      "sum of digit are :8\n"
     ]
    }
   ],
   "source": [
    "#number = 125 => 1+2+5 = 8\n",
    "number = int(input(\"Enter Number :\"))\n",
    "rem = 0\n",
    "sum_of_number = 0\n",
    "while(number>0):\n",
    "    rem = number % 10\n",
    "    sum_of_number = sum_of_number + rem\n",
    "    number = number // 10\n",
    "    print(f'sum of digit are :{sum_of_number}')"
   ]
  },
  {
   "cell_type": "code",
   "execution_count": 10,
   "id": "5c97fc91",
   "metadata": {},
   "outputs": [
    {
     "name": "stdout",
     "output_type": "stream",
     "text": [
      "Enter Number :5221\n",
      "sum of digit are :1225\n"
     ]
    }
   ],
   "source": [
    "#program reverse the number\n",
    "#number = 125 => 521\n",
    "number = int(input(\"Enter Number :\"))\n",
    "rem = 0\n",
    "reverse_of_number = 0\n",
    "while(number>0):\n",
    "    rem = number % 10\n",
    "    reverse_of_number = reverse_of_number * 10 + rem\n",
    "    number = number // 10\n",
    "print(f'sum of digit are :{reverse_of_number}')"
   ]
  },
  {
   "cell_type": "code",
   "execution_count": 11,
   "id": "3fee4d73",
   "metadata": {},
   "outputs": [
    {
     "name": "stdout",
     "output_type": "stream",
     "text": [
      "Enter Number :5\n",
      "Number is palindrome\n"
     ]
    }
   ],
   "source": [
    "#Palindrom\n",
    "number = int(input(\"Enter Number :\"))\n",
    "temp = number\n",
    "rev = 0\n",
    "reverse_of_number = 0\n",
    "while(number>0):\n",
    "    rem = number % 10\n",
    "    reverse_of_number = reverse_of_number * 10 + rem\n",
    "    number = number // 10\n",
    "if(temp == reverse_of_number):\n",
    "    print(\"Number is palindrome\")\n",
    "else:\n",
    "    print(\"Number is not palindrome\")"
   ]
  },
  {
   "cell_type": "code",
   "execution_count": 12,
   "id": "31e9ee99",
   "metadata": {},
   "outputs": [],
   "source": [
    "\n",
    "# if a=50 and b=60 want to interchange number of a and b in python without using 3rd variable\n",
    "# a=50\n",
    "# b=60\n",
    "\n",
    "# want : \n",
    "# a=60\n",
    "# b=50"
   ]
  },
  {
   "cell_type": "code",
   "execution_count": 13,
   "id": "e3639bbd",
   "metadata": {},
   "outputs": [
    {
     "name": "stdout",
     "output_type": "stream",
     "text": [
      "enter value of a :54\n",
      "enter value of b :20\n",
      "a = 20\n",
      "b = 54\n"
     ]
    }
   ],
   "source": [
    "a=int(input(\"enter value of a :\"))\n",
    "b=int(input(\"enter value of b :\"))\n",
    "a,b=b,a\n",
    "print(\"a =\",a)\n",
    "print(\"b =\",b)"
   ]
  },
  {
   "cell_type": "code",
   "execution_count": 14,
   "id": "87c3ba3b",
   "metadata": {},
   "outputs": [],
   "source": [
    "# WAP to extract each digit from an integer in reverse order\n",
    "\n",
    "# ex: if the given int is 7536 the output shall be \"6 3 5 7\" with space seprating th digits."
   ]
  },
  {
   "cell_type": "code",
   "execution_count": 15,
   "id": "2f6a7667",
   "metadata": {},
   "outputs": [
    {
     "name": "stdout",
     "output_type": "stream",
     "text": [
      "enter the no :5453\n",
      "3 5 4 5 "
     ]
    }
   ],
   "source": [
    "num=int(input(\"enter the no :\"))\n",
    "revnum=0\n",
    "rem=0\n",
    "while num > 0:\n",
    "    revnum = num % 10\n",
    "    num = num // 10\n",
    "    print(revnum, end=\" \")"
   ]
  },
  {
   "cell_type": "code",
   "execution_count": 4,
   "id": "ae2744f2",
   "metadata": {},
   "outputs": [
    {
     "name": "stdin",
     "output_type": "stream",
     "text": [
      "Enter your Choice from option : Paper\n"
     ]
    },
    {
     "name": "stdout",
     "output_type": "stream",
     "text": [
      "Your Choice is : Paper\n",
      "Computer Choice is : Paper\n",
      "Result : Tie\n"
     ]
    }
   ],
   "source": [
    "# Example : Rock Paper Scissior \n",
    "\n",
    "import random \n",
    "\n",
    "Option = [\"Rock\", \"Paper\", \"Scissor\"]\n",
    "choice = input(\"Enter your Choice from option :\")\n",
    "computer = random.choice(Option)\n",
    "\n",
    "print(f'Your Choice is : {choice}')\n",
    "print(f'Computer Choice is : {computer}')\n",
    "\n",
    "if (choice == computer):\n",
    "    print(\"Result : Tie\")\n",
    "elif (choice == \"Rock\" and computer == \"Scissor\"):\n",
    "    print(\"Result : You win\")\n",
    "elif (choice == \"Paper\" and computer == \"Rock\"):\n",
    "    print(\"Result : You win\")\n",
    "elif (choice == \"Scissor\" and computer == \"Paper\"):\n",
    "    print(\"Result : You win\")\n",
    "else:\n",
    "    print(\"Result : Bad Luck Computer wins!\")"
   ]
  },
  {
   "cell_type": "code",
   "execution_count": 1,
   "id": "611bda55-5dc3-445c-b51e-b4a88a08bdaa",
   "metadata": {},
   "outputs": [],
   "source": [
    "# Example : Bike Rental System in python using object oriented programming\n",
    "\n",
    "# A Bike Rental System\n",
    "# A full fledged bike rental system implemented in Python using object oriented programming.\n",
    "\n",
    "# Customers can : \n",
    "# 1. See available bikes on the shop\n",
    "# 2. Rent bikes on hourly basis $5 per hour.\n",
    "# 3. Rent bikes on daily basis $20 per day.\n",
    "# 4. Rent bikes on weekly basis $60 per week.\n",
    "\n",
    "# Family Rental, a promotion that can include from 3 to 5 Rentals (of any type) with a discount of 30% of the total price\n",
    "\n",
    "# The bike rental shop can :\n",
    "# 1. issue a bill when customer decides to return the bike.\n",
    "# 2. display available inventory\n",
    "# 3. take requests on hourly, daily and weekly basis by cross verifying stock\n",
    "# 4. For simplicity we assume that\n",
    "\n",
    "# Any customer requests rentals of only one type i.e hourly, monthly or weekly\n",
    "# Is free to chose the number of bikes he/she wants\n",
    "# Requested bikes should be less than available stock.\n",
    "\n",
    "import datetime\n",
    "class BikeRental:\n",
    "    \n",
    "    def __init__(self,stock=0):\n",
    "\n",
    "        # Our constructor class that instantiates bike rental shop.\n",
    "        self.stock = stock \n",
    "        \n",
    "    def displaystock(self):\n",
    "        \n",
    "        # Displays the bikes currently available for rent in the shop.\n",
    "        print(\"We have currently {} bikes available to     rent.\".format(self.stock))\n",
    "        return self.stock\n",
    "        \n",
    "    def rentBikeOnHourlyBasis(self, n):\n",
    "\n",
    "        # Rents a bike on hourly basis to a customer.\n",
    "        # reject invalid input \n",
    "        if n <= 0:\n",
    "            print(\"Number of bikes should be positive!\")\n",
    "            return None\n",
    "        # do not rent bike is stock is less than requested bikes\n",
    "        \n",
    "        elif n > self.stock:\n",
    "            print(\"Sorry! We have currently {} bikes available to rent.\".format(self.stock))\n",
    "            return None\n",
    "        # rent the bikes        \n",
    "        else:\n",
    "            now = datetime.datetime.now()                      \n",
    "            print(\"You have rented a {} bike(s) on hourly basis today at {} hours.\".format(n,now.hour))\n",
    "            print(\"You will be charged $5 for each hour per bike.\")\n",
    "            print(\"We hope that you enjoy our service.\")\n",
    "            self.stock -= n\n",
    "            return now      \n",
    "     \n",
    "    def rentBikeOnDailyBasis(self, n):\n",
    "\n",
    "        # Rents a bike on daily basis to a customer.\n",
    "        if n <= 0:\n",
    "            print(\"Number of bikes should be positive!\")\n",
    "            return None\n",
    "        elif n > self.stock:\n",
    "            print(\"Sorry! We have currently {} bikes available to rent.\".format(self.stock))\n",
    "            return None\n",
    "        else:\n",
    "            now = datetime.datetime.now()                      \n",
    "            print(\"You have rented {} bike(s) on daily basis today at {} hours.\".format(n, now.hour))\n",
    "            print(\"You will be charged $20 for each day per bike.\")\n",
    "            print(\"We hope that you enjoy our service.\")\n",
    "            self.stock -= n\n",
    "            return now\n",
    "        \n",
    "    def rentBikeOnWeeklyBasis(self, n):\n",
    "        \n",
    "        # Rents a bike on weekly basis to a customer.\n",
    "        if n <= 0:\n",
    "            print(\"Number of bikes should be positive!\")\n",
    "            return None\n",
    "        elif n > self.stock:\n",
    "            print(\"Sorry! We have currently {} bikes available to rent.\".format(self.stock))\n",
    "            return None        \n",
    "        \n",
    "        else:\n",
    "            now = datetime.datetime.now()\n",
    "            print(\"You have rented {} bike(s) on weekly basis today at {} hours.\".format(n, now.hour))\n",
    "            print(\"You will be charged $60 for each week per bike.\")\n",
    "            print(\"We hope that you enjoy our service.\")\n",
    "            self.stock -= n\n",
    "            return now\n",
    "    \n",
    "    \n",
    "    def returnBike(self, request):\n",
    "    \n",
    "        # 1. Accept a rented bike from a customer\n",
    "        # 2. Replensihes the inventory\n",
    "        # 3. Return a bill     \n",
    "        # extract the tuple and initiate bill\n",
    "        \n",
    "        rentalTime, rentalBasis, numOfBikes = request\n",
    "        bill = 0\n",
    "        # issue a bill only if all three parameters are not null!\n",
    "        if rentalTime and rentalBasis and numOfBikes:\n",
    "            self.stock += numOfBikes\n",
    "            now = datetime.datetime.now()\n",
    "            rentalPeriod = now - rentalTime\n",
    "        \n",
    "            # hourly bill calculation\n",
    "            if rentalBasis == 1:\n",
    "                bill = round(rentalPeriod.secondonds / 3600) * 5 * numOfBikes\n",
    "                \n",
    "            # daily bill calculation\n",
    "            elif rentalBasis == 2:\n",
    "                bill = round(rentalPeriod.days) * 20 * numOfBikes\n",
    "                \n",
    "            # weekly bill calculation\n",
    "            elif rentalBasis == 3:\n",
    "                bill = round(rentalPeriod.days / 7) * 60 * numOfBikes\n",
    "            \n",
    "            # family discount calculation\n",
    "            if (3 <= numOfBikes <= 5):\n",
    "                print(\"You are eligible for Family rental promotion of 30% discount\")\n",
    "                bill = bill * 0.7\n",
    "            print(\"Thanks for returning your bike. Hope you enjoyed our service!\")\n",
    "            print(\"That would be ${}\".format(bill))\n",
    "            return bill\n",
    "        \n",
    "        else:\n",
    "            print(\"Are you sure you rented a bike with us?\")\n",
    "            return None\n",
    "class Customer:\n",
    "    def __init__(self):\n",
    "        \n",
    "        # Our constructor method which instantiates various customer objects.     \n",
    "        self.bikes = 0\n",
    "        self.rentalBasis = 0\n",
    "        self.rentalTime = 0\n",
    "        self.bill = 0\n",
    "    \n",
    "    def requestBike(self):\n",
    "\n",
    "       # Takes a request from the customer for the number of bikes.\n",
    "        \n",
    "        bikes = input(\"How many bikes would you like to rent?\")\n",
    "        \n",
    "        # implement logic for invalid input\n",
    "        try:\n",
    "            bikes = int(bikes)\n",
    "        except ValueError:\n",
    "            print(\"That's not a positive integer!\")\n",
    "            return -1\n",
    "        if bikes < 1:\n",
    "            print(\"Invalid input. Number of bikes should be greater than zero!\")\n",
    "            return -1\n",
    "        else:\n",
    "            self.bikes = bikes\n",
    "        return self.bikes\n",
    "     \n",
    "    def returnBike(self):\n",
    "    \n",
    "        # Allows customers to return their bikes to the rental shop.\n",
    "        \n",
    "        if self.rentalBasis and self.rentalTime and self.bikes:\n",
    "            return self.rentalTime, self.rentalBasis, self.bikes  \n",
    "        else:\n",
    "            return 0,0,0"
   ]
  },
  {
   "cell_type": "code",
   "execution_count": 43,
   "id": "d4779529-834d-4e25-bfb6-18405c4521c0",
   "metadata": {},
   "outputs": [
    {
     "name": "stdout",
     "output_type": "stream",
     "text": [
      "True\n"
     ]
    }
   ],
   "source": [
    "# Example : Write a python program to represent the student seeking admission in university. the details of student class given below :\n",
    "\n",
    "# A university wants to automate their admission process. students are admitted based on __marks, scored in the qualifying exam.\n",
    "# a student is identified by student id, __age and __marks in qualifying exam \n",
    "\n",
    "# * data are valid if\n",
    "# 1. __age is greater than 20\n",
    "# 2. __marks is between 0 and 100 (both exclusive)\n",
    "\n",
    "# * A student qualifies for admission if,\n",
    "# 1. __age and __marks are valid\n",
    "# 2. __marks is 65 or more\n",
    "\n",
    "\n",
    "Student_id_counter = 1 \n",
    "\n",
    "class Student:\n",
    "    def __init__(self,student_id,marks,age):\n",
    "        self.__student_id = student_id\n",
    "        self.__marks = marks\n",
    "        self.__age = age\n",
    "        \n",
    "    def validate_marks(self):\n",
    "        if self.__marks >= 0 and self.__marks <= 100:\n",
    "            return True\n",
    "        else:\n",
    "            return False\n",
    "    \n",
    "    def validate_age(self):\n",
    "        if self.__age > 20:\n",
    "            return True\n",
    "        else:\n",
    "            return False\n",
    "            \n",
    "    def check_qualification(self):\n",
    "        if self.validate_marks() and self.validate_age():\n",
    "            if self.__marks >= 65:\n",
    "                return True\n",
    "        return False\n",
    "        \n",
    "    def set_student_id(self):\n",
    "        global Student_id_counter\n",
    "        self.__student_id = Student_id_counter\n",
    "        Student_id_counter = Student_id_counter +1 \n",
    "        \n",
    "obj = Student(1,66,25)\n",
    "# obj = set_student_id()\n",
    "# obj = set_marks(60)\n",
    "# obj = set_age(19)\n",
    "print(obj.check_qualification())\n"
   ]
  },
  {
   "cell_type": "code",
   "execution_count": 7,
   "id": "87973cfb-abb8-4fca-8eb7-1baf170f8ed6",
   "metadata": {},
   "outputs": [
    {
     "name": "stdout",
     "output_type": "stream",
     "text": [
      "Instance of Car is : 5\n"
     ]
    }
   ],
   "source": [
    "# Example : Count number of instance of class created in python \n",
    "\n",
    "# sat CAR is any class\n",
    "# maruti = car()\n",
    "# BMW = car()\n",
    "# Honda = car()\n",
    "\n",
    "# so after creating above instance we want to count how many instance are created of car class\n",
    "\n",
    "class car:\n",
    "    counter = 0\n",
    "    def __init__(self):\n",
    "        car.counter += 1\n",
    "  \n",
    "Maruti = car()\n",
    "BMW = car()\n",
    "Honda = car()\n",
    "Toyota = car()\n",
    "Tata = car()\n",
    "\n",
    "print(\"Instance of Car is :\",car.counter)"
   ]
  },
  {
   "cell_type": "code",
   "execution_count": null,
   "id": "526c3c43-d45b-478b-b6a5-d21580e44008",
   "metadata": {},
   "outputs": [],
   "source": [
    "# Example : WAP that uses datatime module within class. Enter manufacturing data and expiry date of product.\n",
    "#           the program must display the year, month and days that are left for expiry.\n",
    "\n",
    "from datetime import datetime\n",
    "class product_date:\n",
    "    def __init__(self,year,month,days):\n",
    "        self.year = year\n",
    "        self.month = month\n",
    "        self.days = days\n",
    "\n",
    "print(\"Enter Manufacturing Date :\")\n",
    "print(\"Enter Expiry Date :\")\n",
    "\n",
    "print(\"Total Year :\",self.year,\"Month :\" ,self.month,\"Days :\" ,self.days,\"is left.\")"
   ]
  },
  {
   "cell_type": "code",
   "execution_count": 1,
   "id": "fbd27c90-23e2-4a93-b7bf-956c8aed218d",
   "metadata": {},
   "outputs": [
    {
     "name": "stdin",
     "output_type": "stream",
     "text": [
      "Enter your birthdate (DD/MM/YYYY):  10/12/1998\n"
     ]
    },
    {
     "name": "stdout",
     "output_type": "stream",
     "text": [
      "You are 24 years old.\n"
     ]
    }
   ],
   "source": [
    "from datetime import datetime\n",
    "\n",
    "def calculate_age(birthdate):\n",
    "    today = datetime.now()\n",
    "    birthdate = datetime.strptime(birthdate, \"%d/%m/%Y\")\n",
    "    age = today.year - birthdate.year - ((today.month, today.day) < (birthdate.month, birthdate.day))\n",
    "    return age\n",
    "    \n",
    "def main():\n",
    "    birthdate = input(\"Enter birthdate (DD/MM/YYYY): \")\n",
    "    \n",
    "    try:\n",
    "        age = calculate_age(birthdate)\n",
    "        print(f\"You are {age} years old.\")\n",
    "    except ValueError:\n",
    "        print(\"Invalid date format. Please use DD/MM/YYYY.\")\n",
    "\n",
    "if __name__ == \"__main__\":\n",
    "    main()"
   ]
  },
  {
   "cell_type": "code",
   "execution_count": 16,
   "id": "3dafc639-ea55-43fb-b84c-fd788fe2ce8c",
   "metadata": {},
   "outputs": [
    {
     "name": "stdin",
     "output_type": "stream",
     "text": [
      "Enter Total numbers for list:  5\n",
      "Enter number :  6\n",
      "Enter number :  2\n",
      "Enter number :  7\n",
      "Enter number :  9\n",
      "Enter number :  4\n"
     ]
    },
    {
     "name": "stdout",
     "output_type": "stream",
     "text": [
      "Largest element in list is : 9\n",
      "Smallest element in list is : 2\n"
     ]
    }
   ],
   "source": [
    "#Example : find the smallest and largest list elements on input provided by user\n",
    "\n",
    "lst = []\n",
    "num = int(input(\"Enter Total numbers for list: \"))\n",
    "for n in range(num):\n",
    "    numbers = int(input(\"Enter number : \"))\n",
    "    lst.append(numbers)\n",
    "print(\"Largest element in list is :\", max(lst))\n",
    "print(\"Smallest element in list is :\", min(lst))"
   ]
  },
  {
   "cell_type": "code",
   "execution_count": 19,
   "id": "9e71d09f-acff-420e-be09-c8bbbb4ee8eb",
   "metadata": {},
   "outputs": [
    {
     "name": "stdin",
     "output_type": "stream",
     "text": [
      "Enter total number of elements :  5\n",
      "Enter list element 1 : 2\n",
      "Enter list element 2 : 2\n",
      "Enter list element 3 : 43\n",
      "Enter list element 4 : 4\n",
      "Enter list element 5 : 7\n"
     ]
    },
    {
     "name": "stdout",
     "output_type": "stream",
     "text": [
      "Original list:  [2, 2, 43, 4, 7]\n",
      "First half:  [2, 2]\n",
      "second half:  [43, 4, 7]\n"
     ]
    }
   ],
   "source": [
    "#Example : split a list in half and store the element in two different list\n",
    "\n",
    "def splitlist(inputlst,n):\n",
    " \n",
    "  first_half = inputlst[:n]\n",
    "  second_half = inputlst[n:]\n",
    "  return first_half,second_half\n",
    "    \n",
    "if __name__ == \"__main__\" :\n",
    "  list1 = []\n",
    "  length = int(input(\"Enter total number of elements : \"))\n",
    "\n",
    "  for i in range(0, length):\n",
    "    item = int(input(\"Enter list element \"+ str(i+1) +\" :\"))\n",
    "    list1.append(item)\n",
    "   \n",
    "  middle_index = length//2\n",
    "  first,second = splitlist(list1,middle_index)\n",
    "   \n",
    "  print(\"Original list: \", list1)\n",
    "  print(\"First half: \", first)\n",
    "  print(\"second half: \", second)"
   ]
  },
  {
   "cell_type": "code",
   "execution_count": 6,
   "id": "a870f044-45bd-4bd8-95c4-2f3969fec41f",
   "metadata": {},
   "outputs": [
    {
     "name": "stdout",
     "output_type": "stream",
     "text": [
      "New List : ['Maitri', 'Pooja', 'Python']\n"
     ]
    }
   ],
   "source": [
    "#Example : Remove multiple empty strings from list of strings\n",
    "\n",
    "my_list = ['Maitri', '', 'Pooja', '', 'Python', '']\n",
    "new_list = list(filter(None, my_list))\n",
    "print(\"New List :\",new_list)\n"
   ]
  },
  {
   "cell_type": "code",
   "execution_count": 7,
   "id": "1a66c715-4b5f-4639-979b-701e04b025a3",
   "metadata": {},
   "outputs": [
    {
     "name": "stdin",
     "output_type": "stream",
     "text": [
      "Enter the number of elements in list: 5\n",
      "Enter element 1: 5\n",
      "Enter element 2: 2\n",
      "Enter element 3: 3\n",
      "Enter element 4: 4\n",
      "Enter element 5: 1\n"
     ]
    },
    {
     "name": "stdout",
     "output_type": "stream",
     "text": [
      "New list is: [1, 2, 3, 4, 5]\n"
     ]
    }
   ],
   "source": [
    "#Example : interchange first and last elements in list\n",
    "\n",
    "list1=[]\n",
    "n= int(input(\"Enter the number of elements in list:\"))\n",
    "for x in range(0,n):\n",
    "    element=int(input(\"Enter element \" + str(x+1) + \":\"))\n",
    "    list1.append(element)\n",
    "temp=list1[0]\n",
    "list1[0]=list1[n-1]\n",
    "list1[n-1]=temp\n",
    "print(\"New list is:\",list1)"
   ]
  },
  {
   "cell_type": "code",
   "execution_count": 6,
   "id": "6547e633-043f-4a8b-b81c-74582a26ab87",
   "metadata": {},
   "outputs": [],
   "source": [
    "#Example : print elements with frequency greater than a given value K\n",
    "\n"
   ]
  },
  {
   "cell_type": "code",
   "execution_count": 2,
   "id": "f996560d-dcdd-4c1d-b1d8-3c95503c240f",
   "metadata": {},
   "outputs": [
    {
     "name": "stdin",
     "output_type": "stream",
     "text": [
      "Enter first number: 5\n",
      "Enter second number: 1\n",
      "Enter third number: 3\n"
     ]
    },
    {
     "name": "stdout",
     "output_type": "stream",
     "text": [
      "5 1 3\n",
      "5 3 1\n",
      "1 5 3\n",
      "1 3 5\n",
      "3 5 1\n",
      "3 1 5\n"
     ]
    }
   ],
   "source": [
    "#Example : find all possible combinations of list with three elements\n",
    "\n",
    " \n",
    "num1=int(input(\"Enter first number:\"))\n",
    "num2=int(input(\"Enter second number:\"))\n",
    "num3=int(input(\"Enter third number:\"))\n",
    "lst=[]\n",
    "lst.append(num1)\n",
    "lst.append(num2)\n",
    "lst.append(num3)\n",
    "for i in range(0,3):\n",
    "    for j in range(0,3):\n",
    "        for k in range(0,3):\n",
    "            if(i!=j&j!=k&k!=i):\n",
    "                print(lst[i],lst[j],lst[k])"
   ]
  },
  {
   "cell_type": "code",
   "execution_count": 8,
   "id": "445bd9e5-8849-45d6-8470-3c0370b064e3",
   "metadata": {},
   "outputs": [],
   "source": [
    "#Example : square each element of list and print list in reverse order\n"
   ]
  },
  {
   "cell_type": "code",
   "execution_count": 10,
   "id": "4fba3676-3e01-47b6-8289-8b0a8d3e5d76",
   "metadata": {},
   "outputs": [
    {
     "name": "stdout",
     "output_type": "stream",
     "text": [
      "The original list : [5, 7, 3, 1, 8]\n",
      "remove all occurences of an elements : [7, 3, 1, 8]\n"
     ]
    }
   ],
   "source": [
    "#Example : remove all occurences of an elements from given list\n",
    "\n",
    "def remove_items(list1, item):\n",
    "    res = [i for i in list1 if i != item]\n",
    "    return res\n",
    "  \n",
    "if __name__ == \"__main__\":\n",
    "    list1 = [5,7,3,1,8]\n",
    "    item = 5\n",
    "    print(\"The original list : \" + str(list1))\n",
    "    res = remove_items(list1, item)\n",
    "    print(\"remove all occurences of an elements : \" + str(res))"
   ]
  },
  {
   "cell_type": "code",
   "execution_count": 22,
   "id": "1a77daea-7f85-46f6-ba3e-86f254721d48",
   "metadata": {},
   "outputs": [
    {
     "name": "stdout",
     "output_type": "stream",
     "text": [
      "original list is : [5, 7, [], 9, 7, [], [], 1]\n",
      "remove empty list : [5, 7, 9, 7, 1]\n"
     ]
    }
   ],
   "source": [
    "#Example :remove empty list from given list\n",
    "\n",
    "list1 = [5,7,[],9,7,[],[],1]\n",
    "print(\"original list is : \" + str(list1))\n",
    "res = [ele for ele in list1 if ele != []]\n",
    "print(\"remove empty list : \" + str(res))"
   ]
  },
  {
   "cell_type": "code",
   "execution_count": 21,
   "id": "aafc8182-1cac-4971-a6d5-f8a9706a6279",
   "metadata": {},
   "outputs": [
    {
     "name": "stdout",
     "output_type": "stream",
     "text": [
      "original list is : [5, 4, -3, -2, 7, 5, -9, 1, -2, 4]\n",
      "After removing negative value : [5, 4, 7, 5, 1, 4]\n"
     ]
    }
   ],
   "source": [
    "#Example :remove negative value from a list with filter() function\n",
    "\n",
    "list1 = [5,4,-3,-2,7,5,-9,1,-2,4]\n",
    "print(\"original list is : \" + str(list1))\n",
    "res = [ele for ele in list1 if ele > 0]\n",
    "\n",
    "print(\"After removing negative value : \" + str(res))"
   ]
  },
  {
   "cell_type": "code",
   "execution_count": 12,
   "id": "756ee80b-fb5b-4839-b058-b88baff21ab3",
   "metadata": {},
   "outputs": [],
   "source": [
    "#Example : create a flat list out of a given list  of list using built-in function\n",
    "\n",
    "\n"
   ]
  },
  {
   "cell_type": "code",
   "execution_count": 17,
   "id": "3a945e5c-3367-4a9b-9cdd-a0f3ca368553",
   "metadata": {},
   "outputs": [
    {
     "name": "stdout",
     "output_type": "stream",
     "text": [
      "Total even no are:  7\n",
      "Total odd no are:  5\n"
     ]
    }
   ],
   "source": [
    "#Example : count and filter odd and even numbers of given list using loops\n",
    "\n",
    "list1 = [8,7,36,45,24,6,2,7,4,3,95,40]\n",
    "even, odd = 0, 0\n",
    "for num in list1:\n",
    "   if num % 2 == 0:\n",
    "      even += 1\n",
    "   else:\n",
    "      odd += 1\n",
    "print(\"Total even no are: \", even)\n",
    "print(\"Total odd no are: \", odd)"
   ]
  },
  {
   "cell_type": "code",
   "execution_count": 14,
   "id": "8d5f6378-1007-45f5-803c-7162949f28e7",
   "metadata": {},
   "outputs": [
    {
     "name": "stdout",
     "output_type": "stream",
     "text": [
      "sum of digits is an even number is = ['101', '103', '105', '107', '109', '110', '112', '114', '116', '118', '121', '123', '125', '127', '129', '130', '132', '134', '136', '138', '141', '143', '145', '147', '149', '150', '152', '154', '156', '158', '161', '163', '165', '167', '169', '170', '172', '174', '176', '178', '181', '183', '185', '187', '189', '190', '192', '194', '196', '198']\n"
     ]
    }
   ],
   "source": [
    "#15/9/23\n",
    "\n",
    "#Example : Python program to display all integers within the range 100-200 whose sum of digits is an even number\n",
    "\n",
    "list=[]                  \n",
    "for i in range(100,200):  \n",
    "    i=str(i)             \n",
    "    sum=0                 \n",
    "    for j in i:          \n",
    "        j=int(j)         \n",
    "        sum=sum+j         \n",
    "    if sum%2==0:          \n",
    "        list.append(i)   \n",
    "print('sum of digits is an even number is =',list)"
   ]
  },
  {
   "cell_type": "code",
   "execution_count": 15,
   "id": "61836640-0fa2-47b4-ac91-0d7ec5efa564",
   "metadata": {},
   "outputs": [
    {
     "name": "stdin",
     "output_type": "stream",
     "text": [
      "Enter the starting range of prime no :  1\n",
      "Enter the ending range of prime no :  1000\n"
     ]
    },
    {
     "name": "stdout",
     "output_type": "stream",
     "text": [
      "2\n",
      "3\n",
      "5\n",
      "7\n",
      "11\n",
      "13\n",
      "17\n",
      "19\n",
      "23\n",
      "29\n",
      "31\n",
      "37\n",
      "41\n",
      "43\n",
      "47\n",
      "53\n",
      "59\n",
      "61\n",
      "67\n",
      "71\n",
      "73\n",
      "79\n",
      "83\n",
      "89\n",
      "97\n",
      "101\n",
      "103\n",
      "107\n",
      "109\n",
      "113\n",
      "127\n",
      "131\n",
      "137\n",
      "139\n",
      "149\n",
      "151\n",
      "157\n",
      "163\n",
      "167\n",
      "173\n",
      "179\n",
      "181\n",
      "191\n",
      "193\n",
      "197\n",
      "199\n",
      "211\n",
      "223\n",
      "227\n",
      "229\n",
      "233\n",
      "239\n",
      "241\n",
      "251\n",
      "257\n",
      "263\n",
      "269\n",
      "271\n",
      "277\n",
      "281\n",
      "283\n",
      "293\n",
      "307\n",
      "311\n",
      "313\n",
      "317\n",
      "331\n",
      "337\n",
      "347\n",
      "349\n",
      "353\n",
      "359\n",
      "367\n",
      "373\n",
      "379\n",
      "383\n",
      "389\n",
      "397\n",
      "401\n",
      "409\n",
      "419\n",
      "421\n",
      "431\n",
      "433\n",
      "439\n",
      "443\n",
      "449\n",
      "457\n",
      "461\n",
      "463\n",
      "467\n",
      "479\n",
      "487\n",
      "491\n",
      "499\n",
      "503\n",
      "509\n",
      "521\n",
      "523\n",
      "541\n",
      "547\n",
      "557\n",
      "563\n",
      "569\n",
      "571\n",
      "577\n",
      "587\n",
      "593\n",
      "599\n",
      "601\n",
      "607\n",
      "613\n",
      "617\n",
      "619\n",
      "631\n",
      "641\n",
      "643\n",
      "647\n",
      "653\n",
      "659\n",
      "661\n",
      "673\n",
      "677\n",
      "683\n",
      "691\n",
      "701\n",
      "709\n",
      "719\n",
      "727\n",
      "733\n",
      "739\n",
      "743\n",
      "751\n",
      "757\n",
      "761\n",
      "769\n",
      "773\n",
      "787\n",
      "797\n",
      "809\n",
      "811\n",
      "821\n",
      "823\n",
      "827\n",
      "829\n",
      "839\n",
      "853\n",
      "857\n",
      "859\n",
      "863\n",
      "877\n",
      "881\n",
      "883\n",
      "887\n",
      "907\n",
      "911\n",
      "919\n",
      "929\n",
      "937\n",
      "941\n",
      "947\n",
      "953\n",
      "967\n",
      "971\n",
      "977\n",
      "983\n",
      "991\n",
      "997\n"
     ]
    }
   ],
   "source": [
    "#Example : Pthon program to generate the prime numbers from 1 to N\n",
    "\n",
    "start_prime = int(input(\"Enter the starting range of prime no : \"))\n",
    "end_prime = int(input(\"Enter the ending range of prime no : \"))\n",
    "\n",
    "for num in range(start_prime, end_prime + 1):\n",
    "   if num > 1:\n",
    "       for i in range(2, int(num**0.5) + 1):\n",
    "           if (num % i) == 0:\n",
    "               break\n",
    "       else:\n",
    "           print(num)"
   ]
  },
  {
   "cell_type": "code",
   "execution_count": 23,
   "id": "576cfc25-22e9-4844-9a90-f970ebe9e3f2",
   "metadata": {},
   "outputs": [
    {
     "name": "stdin",
     "output_type": "stream",
     "text": [
      "Enter the coefficients of a:  5\n",
      "Enter the coefficients of b:  7\n",
      "Enter the coefficients of c:  6\n"
     ]
    },
    {
     "name": "stdout",
     "output_type": "stream",
     "text": [
      "This equation has no real solution\n"
     ]
    }
   ],
   "source": [
    "#Example : Python program to find the roots of quadratic equation \n",
    "\n",
    "a = int(input(\"Enter the coefficients of a: \"))\n",
    "b = int(input(\"Enter the coefficients of b: \"))\n",
    "c = int(input(\"Enter the coefficients of c: \"))\n",
    "\n",
    "d = b**2-4*a*c #discriminant\n",
    "\n",
    "if d < 0:\n",
    "    print (\"This equation has no real solution\")\n",
    "elif d == 0:\n",
    "    x = (-b+math.sqrt(b**2-4*a*c))/2*a\n",
    "    print (\"This equation has one solutions: \"), x\n",
    "else:\n",
    "    x1 = (-b+math.sqrt((b**2)-(4*(a*c))))/(2*a)\n",
    "    x2 = (-b-math.sqrt((b**2)-(4*(a*c))))/(2*a)\n",
    "    print (\"This equation has two solutions: \", x1, \" or\", x2)"
   ]
  },
  {
   "cell_type": "code",
   "execution_count": null,
   "id": "c1692cae-14eb-4f64-a29c-59af05682a1d",
   "metadata": {},
   "outputs": [],
   "source": []
  }
 ],
 "metadata": {
  "kernelspec": {
   "display_name": "Python 3 (ipykernel)",
   "language": "python",
   "name": "python3"
  },
  "language_info": {
   "codemirror_mode": {
    "name": "ipython",
    "version": 3
   },
   "file_extension": ".py",
   "mimetype": "text/x-python",
   "name": "python",
   "nbconvert_exporter": "python",
   "pygments_lexer": "ipython3",
   "version": "3.11.4"
  }
 },
 "nbformat": 4,
 "nbformat_minor": 5
}
