{
 "cells": [
  {
   "cell_type": "code",
   "execution_count": 1,
   "id": "91397e39",
   "metadata": {},
   "outputs": [],
   "source": [
    "#13/7/23\n",
    "\n",
    "# Class : template/blue print - collection of object\n",
    "# # object : instance of class\n",
    "# inheritance :\n",
    "# encapsulation :\n",
    "# polymorphsim:\n",
    "# abstraction :\n",
    "# constructor : initialize the object of class "
   ]
  },
  {
   "cell_type": "code",
   "execution_count": 2,
   "id": "884abe24",
   "metadata": {},
   "outputs": [],
   "source": [
    "class HelloWorld:\n",
    "    pass\n",
    "obj = HelloWorld()"
   ]
  },
  {
   "cell_type": "code",
   "execution_count": 3,
   "id": "5227af07",
   "metadata": {},
   "outputs": [
    {
     "name": "stdout",
     "output_type": "stream",
     "text": [
      "Hello Class\n"
     ]
    }
   ],
   "source": [
    "class HelloWorld:\n",
    "    print(\"Hello Class\")\n",
    "obj = HelloWorld()"
   ]
  },
  {
   "cell_type": "code",
   "execution_count": 4,
   "id": "c5d0067a",
   "metadata": {},
   "outputs": [],
   "source": [
    "ls = [25,65,3,58,354,52]"
   ]
  },
  {
   "cell_type": "code",
   "execution_count": 5,
   "id": "49ad93d7",
   "metadata": {},
   "outputs": [
    {
     "name": "stdout",
     "output_type": "stream",
     "text": [
      "<class 'list'>\n"
     ]
    }
   ],
   "source": [
    "print(type(ls))"
   ]
  },
  {
   "cell_type": "code",
   "execution_count": 6,
   "id": "9cfdeff5",
   "metadata": {},
   "outputs": [],
   "source": [
    "x = 25"
   ]
  },
  {
   "cell_type": "code",
   "execution_count": 7,
   "id": "91c28fb0",
   "metadata": {},
   "outputs": [
    {
     "name": "stdout",
     "output_type": "stream",
     "text": [
      "<class 'int'>\n"
     ]
    }
   ],
   "source": [
    "print(type(x))"
   ]
  },
  {
   "cell_type": "code",
   "execution_count": 8,
   "id": "f89e5f8d",
   "metadata": {},
   "outputs": [],
   "source": [
    "# #snake_case\n",
    "\n",
    "# means we have to give proper name of variable minimum 14 "
   ]
  },
  {
   "cell_type": "code",
   "execution_count": 9,
   "id": "100653d3",
   "metadata": {},
   "outputs": [],
   "source": [
    "class Welcome:\n",
    "    #method\n",
    "    def display():\n",
    "        print(\"Welcome Maitri\")"
   ]
  },
  {
   "cell_type": "code",
   "execution_count": 10,
   "id": "8038db88",
   "metadata": {},
   "outputs": [],
   "source": [
    "obj = Welcome()"
   ]
  },
  {
   "cell_type": "code",
   "execution_count": 11,
   "id": "0c02c749",
   "metadata": {},
   "outputs": [
    {
     "ename": "TypeError",
     "evalue": "Welcome.display() takes 0 positional arguments but 1 was given",
     "output_type": "error",
     "traceback": [
      "\u001b[1;31m---------------------------------------------------------------------------\u001b[0m",
      "\u001b[1;31mTypeError\u001b[0m                                 Traceback (most recent call last)",
      "Cell \u001b[1;32mIn[11], line 1\u001b[0m\n\u001b[1;32m----> 1\u001b[0m \u001b[43mobj\u001b[49m\u001b[38;5;241;43m.\u001b[39;49m\u001b[43mdisplay\u001b[49m\u001b[43m(\u001b[49m\u001b[43m)\u001b[49m\n",
      "\u001b[1;31mTypeError\u001b[0m: Welcome.display() takes 0 positional arguments but 1 was given"
     ]
    }
   ],
   "source": [
    "obj.display()"
   ]
  },
  {
   "cell_type": "code",
   "execution_count": 12,
   "id": "c1440bd1",
   "metadata": {},
   "outputs": [],
   "source": [
    "class Welcome:\n",
    "    #method\n",
    "    def display(self):\n",
    "        print(\"Welcome Maitri\")"
   ]
  },
  {
   "cell_type": "code",
   "execution_count": 13,
   "id": "5c669573",
   "metadata": {},
   "outputs": [],
   "source": [
    "#Self - self represents the instance of the class. by using the \"self\"\n",
    "# We can access the attributes and methods of the class in python"
   ]
  },
  {
   "cell_type": "code",
   "execution_count": 14,
   "id": "3ad30753",
   "metadata": {},
   "outputs": [],
   "source": [
    "obj = Welcome()"
   ]
  },
  {
   "cell_type": "code",
   "execution_count": 15,
   "id": "70343840",
   "metadata": {},
   "outputs": [
    {
     "name": "stdout",
     "output_type": "stream",
     "text": [
      "Welcome Maitri\n"
     ]
    }
   ],
   "source": [
    "obj.display()"
   ]
  },
  {
   "cell_type": "code",
   "execution_count": 16,
   "id": "fd355543",
   "metadata": {},
   "outputs": [],
   "source": [
    "class Welcome:\n",
    "    def detailsData(self, name, age):\n",
    "        print(f'Welcome {self.name} your age is {self.age}')\n",
    "obj = Welcome()"
   ]
  },
  {
   "cell_type": "code",
   "execution_count": 18,
   "id": "cf8593cb",
   "metadata": {},
   "outputs": [
    {
     "ename": "AttributeError",
     "evalue": "'Welcome' object has no attribute 'name'",
     "output_type": "error",
     "traceback": [
      "\u001b[1;31m---------------------------------------------------------------------------\u001b[0m",
      "\u001b[1;31mAttributeError\u001b[0m                            Traceback (most recent call last)",
      "Cell \u001b[1;32mIn[18], line 1\u001b[0m\n\u001b[1;32m----> 1\u001b[0m \u001b[43mobj\u001b[49m\u001b[38;5;241;43m.\u001b[39;49m\u001b[43mdetailsData\u001b[49m\u001b[43m(\u001b[49m\u001b[38;5;124;43m\"\u001b[39;49m\u001b[38;5;124;43mMaitri\u001b[39;49m\u001b[38;5;124;43m\"\u001b[39;49m\u001b[43m,\u001b[49m\u001b[38;5;241;43m24\u001b[39;49m\u001b[43m)\u001b[49m\n",
      "Cell \u001b[1;32mIn[16], line 3\u001b[0m, in \u001b[0;36mWelcome.detailsData\u001b[1;34m(self, name, age)\u001b[0m\n\u001b[0;32m      2\u001b[0m \u001b[38;5;28;01mdef\u001b[39;00m \u001b[38;5;21mdetailsData\u001b[39m(\u001b[38;5;28mself\u001b[39m, name, age):\n\u001b[1;32m----> 3\u001b[0m     \u001b[38;5;28mprint\u001b[39m(\u001b[38;5;124mf\u001b[39m\u001b[38;5;124m'\u001b[39m\u001b[38;5;124mWelcome \u001b[39m\u001b[38;5;132;01m{\u001b[39;00m\u001b[38;5;28mself\u001b[39m\u001b[38;5;241m.\u001b[39mname\u001b[38;5;132;01m}\u001b[39;00m\u001b[38;5;124m your age is \u001b[39m\u001b[38;5;132;01m{\u001b[39;00m\u001b[38;5;28mself\u001b[39m\u001b[38;5;241m.\u001b[39mage\u001b[38;5;132;01m}\u001b[39;00m\u001b[38;5;124m'\u001b[39m)\n",
      "\u001b[1;31mAttributeError\u001b[0m: 'Welcome' object has no attribute 'name'"
     ]
    }
   ],
   "source": [
    "obj.detailsData(\"Maitri\",24)"
   ]
  },
  {
   "cell_type": "code",
   "execution_count": 19,
   "id": "bc3af1a2",
   "metadata": {},
   "outputs": [],
   "source": [
    "class Welcome:\n",
    "    def detailsData(self, name, age):\n",
    "        print(f'Welcome {name} your age is {age}')\n",
    "obj = Welcome()"
   ]
  },
  {
   "cell_type": "code",
   "execution_count": 20,
   "id": "0d09e8d4",
   "metadata": {},
   "outputs": [
    {
     "name": "stdout",
     "output_type": "stream",
     "text": [
      "Welcome Maitri your age is 24\n"
     ]
    }
   ],
   "source": [
    "obj.detailsData(\"Maitri\",24)"
   ]
  },
  {
   "cell_type": "code",
   "execution_count": 24,
   "id": "ebc30d48",
   "metadata": {},
   "outputs": [],
   "source": [
    "class Welcome:\n",
    "    def __init__(self,name,age):\n",
    "        self.name = name\n",
    "        self.age = age\n",
    "    def displayData(self):\n",
    "        print(f'Welcome {self.name} your age is {self.age}')"
   ]
  },
  {
   "cell_type": "code",
   "execution_count": 25,
   "id": "b92509c2",
   "metadata": {},
   "outputs": [],
   "source": [
    "obj = Welcome(\"Maitri\",25)"
   ]
  },
  {
   "cell_type": "code",
   "execution_count": 26,
   "id": "49c51fbe",
   "metadata": {},
   "outputs": [
    {
     "name": "stdout",
     "output_type": "stream",
     "text": [
      "Welcome Maitri your age is 25\n"
     ]
    }
   ],
   "source": [
    "obj.displayData()"
   ]
  },
  {
   "cell_type": "code",
   "execution_count": 1,
   "id": "6684df42",
   "metadata": {},
   "outputs": [],
   "source": [
    "# #15/7/23\n",
    "\n",
    "# Inheritance : parent class ---> Child class"
   ]
  },
  {
   "cell_type": "code",
   "execution_count": 2,
   "id": "d202e90f",
   "metadata": {},
   "outputs": [],
   "source": [
    "#single inheritance\n",
    "\n",
    "class Animal:\n",
    "    def __init__(self,name,age,salary):\n",
    "        self.name = name\n",
    "        self.age = age\n",
    "        self.salary = salary\n",
    "    def display(self):\n",
    "        print(\"Welcome to parent class\")\n",
    "        print(f'Welcome {self.name} your age is {self.age} and salary is {self.salary}')\n",
    "class Dog(Animal):\n",
    "    def show(self):\n",
    "        print(\"Dog is playing\")\n",
    "        \n",
    "obj = Dog(\"Rocky\",5,8000)"
   ]
  },
  {
   "cell_type": "code",
   "execution_count": 6,
   "id": "1e576f56",
   "metadata": {},
   "outputs": [
    {
     "ename": "TypeError",
     "evalue": "Animal.display() missing 1 required positional argument: 'self'",
     "output_type": "error",
     "traceback": [
      "\u001b[1;31m---------------------------------------------------------------------------\u001b[0m",
      "\u001b[1;31mTypeError\u001b[0m                                 Traceback (most recent call last)",
      "Cell \u001b[1;32mIn[6], line 1\u001b[0m\n\u001b[1;32m----> 1\u001b[0m \u001b[43mDog\u001b[49m\u001b[38;5;241;43m.\u001b[39;49m\u001b[43mdisplay\u001b[49m\u001b[43m(\u001b[49m\u001b[43m)\u001b[49m\n",
      "\u001b[1;31mTypeError\u001b[0m: Animal.display() missing 1 required positional argument: 'self'"
     ]
    }
   ],
   "source": [
    "Dog.display()"
   ]
  },
  {
   "cell_type": "code",
   "execution_count": 7,
   "id": "b43f0e51",
   "metadata": {},
   "outputs": [
    {
     "name": "stdout",
     "output_type": "stream",
     "text": [
      "Welcome to parent class\n",
      "Welcome Rocky your age is 5 and salary is 8000\n"
     ]
    }
   ],
   "source": [
    "obj.display()"
   ]
  },
  {
   "cell_type": "code",
   "execution_count": 8,
   "id": "3f2ab0ad",
   "metadata": {},
   "outputs": [
    {
     "name": "stdout",
     "output_type": "stream",
     "text": [
      "Dog is playing\n"
     ]
    }
   ],
   "source": [
    "obj.show()"
   ]
  },
  {
   "cell_type": "code",
   "execution_count": 9,
   "id": "0f61ca65",
   "metadata": {},
   "outputs": [],
   "source": [
    "# multilevel\n",
    "\n",
    "class Animal:\n",
    "    def __init__(self,name,age,salary):\n",
    "        self.name = name\n",
    "        self.age = age\n",
    "        self.salary = salary\n",
    "    def display(self):\n",
    "        print(\"Welcome to parent class\")\n",
    "        print(f'Welcome {self.name} your age is {self.age} and salary is {self.salary}')\n",
    "        \n",
    "class Dog(Animal):\n",
    "    def show(self):\n",
    "        print(\"Dog is playing\")\n",
    "        \n",
    "class petdog(Dog):\n",
    "    def eat(self):\n",
    "        print(\"pet Dog is eating\")\n",
    "        \n",
    "obj = petdog(\"Rocky\",2,5000)"
   ]
  },
  {
   "cell_type": "code",
   "execution_count": 10,
   "id": "2499d285",
   "metadata": {},
   "outputs": [
    {
     "name": "stdout",
     "output_type": "stream",
     "text": [
      "Welcome to parent class\n",
      "Welcome Rocky your age is 2 and salary is 5000\n"
     ]
    }
   ],
   "source": [
    "obj.display()"
   ]
  },
  {
   "cell_type": "code",
   "execution_count": 11,
   "id": "4ab46fa2",
   "metadata": {},
   "outputs": [
    {
     "name": "stdout",
     "output_type": "stream",
     "text": [
      "Dog is playing\n"
     ]
    }
   ],
   "source": [
    "obj.show()"
   ]
  },
  {
   "cell_type": "code",
   "execution_count": 12,
   "id": "6ed69a0b",
   "metadata": {},
   "outputs": [
    {
     "name": "stdout",
     "output_type": "stream",
     "text": [
      "pet Dog is eating\n"
     ]
    }
   ],
   "source": [
    "obj.eat()"
   ]
  },
  {
   "cell_type": "code",
   "execution_count": 16,
   "id": "875ac8a5",
   "metadata": {},
   "outputs": [
    {
     "name": "stdout",
     "output_type": "stream",
     "text": [
      "[20, 40, 60, 80, 100]\n"
     ]
    }
   ],
   "source": [
    "# Example : use loop to display elemets from given list present at odd index positions\n",
    "    \n",
    "# my_list = [10,20,30,40,50,60,70,80,90,100]\n",
    "\n",
    "My_list  = [10,20,30,40,50,60,70,80,90,100]\n",
    "for i in My_list:\n",
    "    result = My_list[1:10:2]\n",
    "print(result)"
   ]
  },
  {
   "cell_type": "code",
   "execution_count": 1,
   "id": "b644058c",
   "metadata": {},
   "outputs": [],
   "source": [
    "# #18/7/23\n",
    "\n",
    "# Encapsulation\n",
    "# Wrapping of data and method that works on data within one unit"
   ]
  },
  {
   "cell_type": "code",
   "execution_count": 2,
   "id": "57159947",
   "metadata": {},
   "outputs": [],
   "source": [
    "class Employee:\n",
    "    def __init__(self,name,project):\n",
    "        self.name = name\n",
    "        self.project = project #data member\n",
    "    def work(self):\n",
    "        print(self.name, self.project)"
   ]
  },
  {
   "cell_type": "code",
   "execution_count": 3,
   "id": "9cbbf8b8",
   "metadata": {},
   "outputs": [],
   "source": [
    "# In python there is no\n",
    "\n",
    "# public\n",
    "# private\n",
    "# protected"
   ]
  },
  {
   "cell_type": "code",
   "execution_count": 4,
   "id": "d434d51d",
   "metadata": {},
   "outputs": [],
   "source": [
    "class Employee:\n",
    "     def __init__(self,name,salary,project):\n",
    "            pass"
   ]
  },
  {
   "cell_type": "code",
   "execution_count": 5,
   "id": "d299b560",
   "metadata": {},
   "outputs": [],
   "source": [
    "ls = [1,2,3]"
   ]
  },
  {
   "cell_type": "code",
   "execution_count": 6,
   "id": "9f5e867e",
   "metadata": {},
   "outputs": [
    {
     "name": "stdout",
     "output_type": "stream",
     "text": [
      "['__add__', '__class__', '__class_getitem__', '__contains__', '__delattr__', '__delitem__', '__dir__', '__doc__', '__eq__', '__format__', '__ge__', '__getattribute__', '__getitem__', '__gt__', '__hash__', '__iadd__', '__imul__', '__init__', '__init_subclass__', '__iter__', '__le__', '__len__', '__lt__', '__mul__', '__ne__', '__new__', '__reduce__', '__reduce_ex__', '__repr__', '__reversed__', '__rmul__', '__setattr__', '__setitem__', '__sizeof__', '__str__', '__subclasshook__', 'append', 'clear', 'copy', 'count', 'extend', 'index', 'insert', 'pop', 'remove', 'reverse', 'sort']\n"
     ]
    }
   ],
   "source": [
    "print(dir(ls))"
   ]
  },
  {
   "cell_type": "code",
   "execution_count": 12,
   "id": "e07b08cc",
   "metadata": {},
   "outputs": [],
   "source": [
    "class Employee:\n",
    "    def __init__(self,name,salary,project):\n",
    "        self.name = name\n",
    "        self.salary = salary\n",
    "        self.project = project #data member\n",
    "    #method\n",
    "    def show(self):\n",
    "        print(\"Name :\",self.name,\"Salary :\" ,self.salary)\n",
    "        \n",
    "    #method\n",
    "    def work(self):\n",
    "        print(self.name,\"is working with :\" ,self.project)\n",
    "\n",
    "emp = Employee(\"Maitri\",20000,\"Health Pridiction\")  "
   ]
  },
  {
   "cell_type": "code",
   "execution_count": 13,
   "id": "179ccf04",
   "metadata": {},
   "outputs": [
    {
     "name": "stdout",
     "output_type": "stream",
     "text": [
      "Name : Maitri Salary : 20000\n"
     ]
    }
   ],
   "source": [
    "emp.show()"
   ]
  },
  {
   "cell_type": "code",
   "execution_count": 14,
   "id": "c87dd835",
   "metadata": {},
   "outputs": [
    {
     "name": "stdout",
     "output_type": "stream",
     "text": [
      "Maitri is working with : Health Pridiction\n"
     ]
    }
   ],
   "source": [
    "emp.work()"
   ]
  },
  {
   "cell_type": "code",
   "execution_count": 1,
   "id": "874e8318",
   "metadata": {},
   "outputs": [],
   "source": [
    "class Employee:\n",
    "    \n",
    "#     public member : Accessible anywhere from outside class\n",
    "#     Protected member : Accessible within class and subclass\n",
    "#     Private member : Accessible within class\n",
    "\n",
    "    def __init__(self,name,salary,project):\n",
    "        self.name = name #public member\n",
    "        self._salary = salary  #Protected member\n",
    "        self.__project = project  #private member"
   ]
  },
  {
   "cell_type": "code",
   "execution_count": 2,
   "id": "b3fb01df",
   "metadata": {},
   "outputs": [
    {
     "name": "stdout",
     "output_type": "stream",
     "text": [
      "153\n",
      "370\n",
      "371\n",
      "407\n"
     ]
    }
   ],
   "source": [
    "# 20/7/23\n",
    "\n",
    "# Example : Print all the armstrong number in the range of 100 to 1000\n",
    "\n",
    "range1 = 100\n",
    "range2 = 1000\n",
    "for num in range(range1, range2 + 1):\n",
    "    numb= len(str(num))\n",
    "    sum = 0\n",
    "    temp_num = num\n",
    "    while (temp_num > 0):\n",
    "        digit = temp_num % 10\n",
    "        sum += digit ** numb\n",
    "        temp_num //= 10  \n",
    "    if num == sum:\n",
    "       print(num)\n"
   ]
  },
  {
   "cell_type": "code",
   "execution_count": 1,
   "id": "81888597",
   "metadata": {},
   "outputs": [
    {
     "name": "stdout",
     "output_type": "stream",
     "text": [
      "10 year - 100.0\n",
      "9 year -  9000.0\n",
      "8 year -  8100.0\n",
      "7 year -  7290.0\n",
      "6 year -  6561.0\n",
      "5 year -  5904.9\n",
      "4 year -  5314.41\n",
      "3 year -  4782.969\n",
      "2 year -  4304.6721\n",
      "1 year -  3874.20489\n"
     ]
    }
   ],
   "source": [
    "'''\n",
    "Example : the current population of town is 10000. the population of the town is increasing at the rate of 10% per year. \n",
    "    you have write program to find out population at the end of each of the last  years. for eg. current population is \n",
    "    10000 so output should be like \n",
    "    \n",
    "    10th year = 10000\n",
    "    9th year = 9000\n",
    "    8th year = 8100and so on\n",
    "'''\n",
    "\n",
    "current_population = 10000\n",
    "print(\"10 year - 100.0\")\n",
    "for i in range(9,0,-1):\n",
    "    persentage = current_population * 0.1\n",
    "    total = current_population - persentage\n",
    "    current_population = total\n",
    "    print(i,\"year - \",total)"
   ]
  },
  {
   "cell_type": "code",
   "execution_count": 7,
   "id": "1b374bcc",
   "metadata": {},
   "outputs": [
    {
     "name": "stdout",
     "output_type": "stream",
     "text": [
      "Enter temperature : 20\n",
      "Enter humidity : 80\n",
      "Weather is cool\n"
     ]
    }
   ],
   "source": [
    "'''\n",
    "Example : WAP that will determine weather when tha value of temerature and humidity is provided by user\n",
    "\n",
    "Temperature(C)                humidity(%)                      Weather\n",
    ">=30                            >=90                         Hot and Humid\n",
    ">=30                            <90                            hot\n",
    "<30                             >=90                         cool and humid\n",
    "<30                             <90                          cool\n",
    "'''\n",
    "temp = float(input(\"Enter temperature : \"))\n",
    "humidity = float(input(\"Enter humidity : \"))\n",
    "\n",
    "if temp >=30 and humidity >=90 :\n",
    "    print(\"Weather is Hot and humid\")\n",
    "elif  temp >=30 and humidity < 90 :\n",
    "    print(\"Weather is Hot\")\n",
    "elif  temp<30 and humidity >= 90 :\n",
    "    print(\"Weather is cool and humid\")\n",
    "elif  temp<30 and humidity < 90 :\n",
    "    print(\"Weather is cool\")\n",
    "else:\n",
    "    print(\"Not Exist\")\n",
    "        \n",
    "\n"
   ]
  },
  {
   "cell_type": "code",
   "execution_count": null,
   "id": "1fd6678f",
   "metadata": {},
   "outputs": [],
   "source": []
  }
 ],
 "metadata": {
  "kernelspec": {
   "display_name": "Python 3 (ipykernel)",
   "language": "python",
   "name": "python3"
  },
  "language_info": {
   "codemirror_mode": {
    "name": "ipython",
    "version": 3
   },
   "file_extension": ".py",
   "mimetype": "text/x-python",
   "name": "python",
   "nbconvert_exporter": "python",
   "pygments_lexer": "ipython3",
   "version": "3.11.4"
  }
 },
 "nbformat": 4,
 "nbformat_minor": 5
}
