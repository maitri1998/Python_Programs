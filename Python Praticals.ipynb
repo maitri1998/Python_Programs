{
 "cells": [
  {
   "cell_type": "code",
   "execution_count": 1,
   "id": "6c517719",
   "metadata": {},
   "outputs": [
    {
     "name": "stdout",
     "output_type": "stream",
     "text": [
      "Hello World\n"
     ]
    }
   ],
   "source": [
    "print(\"Hello World\")"
   ]
  },
  {
   "cell_type": "code",
   "execution_count": 2,
   "id": "fa314060",
   "metadata": {},
   "outputs": [],
   "source": [
    "name = \"Maitri\""
   ]
  },
  {
   "cell_type": "code",
   "execution_count": 3,
   "id": "b7985696",
   "metadata": {},
   "outputs": [],
   "source": [
    "age = 24"
   ]
  },
  {
   "cell_type": "code",
   "execution_count": 4,
   "id": "c73f51ea",
   "metadata": {},
   "outputs": [],
   "source": [
    "marks = 9.00"
   ]
  },
  {
   "cell_type": "code",
   "execution_count": 5,
   "id": "43bf56a4",
   "metadata": {},
   "outputs": [
    {
     "name": "stdout",
     "output_type": "stream",
     "text": [
      "<class 'str'>\n"
     ]
    }
   ],
   "source": [
    "print(type(name))"
   ]
  },
  {
   "cell_type": "code",
   "execution_count": 6,
   "id": "4a44d8c8",
   "metadata": {},
   "outputs": [
    {
     "name": "stdout",
     "output_type": "stream",
     "text": [
      "<class 'int'>\n"
     ]
    }
   ],
   "source": [
    "print(type(age))"
   ]
  },
  {
   "cell_type": "code",
   "execution_count": 7,
   "id": "a2c5f51e",
   "metadata": {},
   "outputs": [
    {
     "name": "stdout",
     "output_type": "stream",
     "text": [
      "<class 'float'>\n"
     ]
    }
   ],
   "source": [
    "print(type(marks))"
   ]
  },
  {
   "cell_type": "code",
   "execution_count": 8,
   "id": "4504e086",
   "metadata": {},
   "outputs": [],
   "source": [
    "t = True"
   ]
  },
  {
   "cell_type": "code",
   "execution_count": 9,
   "id": "00ecc53a",
   "metadata": {},
   "outputs": [
    {
     "name": "stdout",
     "output_type": "stream",
     "text": [
      "True\n"
     ]
    }
   ],
   "source": [
    "print(t)"
   ]
  },
  {
   "cell_type": "code",
   "execution_count": 10,
   "id": "d7612fe2",
   "metadata": {},
   "outputs": [
    {
     "name": "stdout",
     "output_type": "stream",
     "text": [
      "<class 'bool'>\n"
     ]
    }
   ],
   "source": [
    "print(type(t))"
   ]
  },
  {
   "cell_type": "code",
   "execution_count": 3,
   "id": "a47b1389",
   "metadata": {},
   "outputs": [],
   "source": [
    "#List\n",
    "ls = [\"Maitri\",24,\"mango\",6500,25,True]"
   ]
  },
  {
   "cell_type": "code",
   "execution_count": 4,
   "id": "d76a285f",
   "metadata": {},
   "outputs": [
    {
     "name": "stdout",
     "output_type": "stream",
     "text": [
      "<class 'list'>\n"
     ]
    }
   ],
   "source": [
    "print(type(ls))"
   ]
  },
  {
   "cell_type": "code",
   "execution_count": 5,
   "id": "ce2f2fbc",
   "metadata": {},
   "outputs": [
    {
     "name": "stdout",
     "output_type": "stream",
     "text": [
      "Enter Your Name :maitri\n",
      "maitri\n"
     ]
    }
   ],
   "source": [
    "name = input(\"Enter Your Name :\")\n",
    "print(name)"
   ]
  },
  {
   "cell_type": "code",
   "execution_count": 1,
   "id": "274aa878",
   "metadata": {},
   "outputs": [
    {
     "name": "stdout",
     "output_type": "stream",
     "text": [
      "Enter Your First Value:2\n",
      "Enter Your Second Value :2\n",
      "22\n"
     ]
    }
   ],
   "source": [
    "#not rum proper beacause int not define\n",
    "n1 = input(\"Enter Your First Value:\")\n",
    "n2 = input(\"Enter Your Second Value :\")\n",
    "add = n1 + n2\n",
    "print(add)"
   ]
  },
  {
   "cell_type": "code",
   "execution_count": 2,
   "id": "a857f375",
   "metadata": {},
   "outputs": [
    {
     "name": "stdout",
     "output_type": "stream",
     "text": [
      "<class 'str'>\n"
     ]
    }
   ],
   "source": [
    "print(type(n1))\n"
   ]
  },
  {
   "cell_type": "code",
   "execution_count": 3,
   "id": "f355445e",
   "metadata": {},
   "outputs": [
    {
     "name": "stdout",
     "output_type": "stream",
     "text": [
      "Enter Your First Value:2\n",
      "Enter Your Second Value :2\n",
      "4\n"
     ]
    }
   ],
   "source": [
    "n1 =int(input(\"Enter Your First Value:\"))\n",
    "n2 = int(input(\"Enter Your Second Value :\"))\n",
    "add = n1 + n2\n",
    "print(add)"
   ]
  },
  {
   "cell_type": "code",
   "execution_count": 1,
   "id": "4166b3c8",
   "metadata": {},
   "outputs": [
    {
     "name": "stdout",
     "output_type": "stream",
     "text": [
      "Hello/World/25/True\n"
     ]
    }
   ],
   "source": [
    "print(\"Hello\", \"World\",25,True, sep='/')"
   ]
  },
  {
   "cell_type": "code",
   "execution_count": 3,
   "id": "384805cd",
   "metadata": {},
   "outputs": [
    {
     "name": "stdout",
     "output_type": "stream",
     "text": [
      "Hello-World-25-True\n"
     ]
    }
   ],
   "source": [
    "print(\"Hello\", \"World\",25,True, sep='-')"
   ]
  },
  {
   "cell_type": "code",
   "execution_count": 4,
   "id": "0ae1961c",
   "metadata": {},
   "outputs": [
    {
     "name": "stdout",
     "output_type": "stream",
     "text": [
      "Hello World 25 True "
     ]
    }
   ],
   "source": [
    "print(\"Hello\", \"World\",25,True, end=' ')"
   ]
  },
  {
   "cell_type": "code",
   "execution_count": 5,
   "id": "d5e05418",
   "metadata": {},
   "outputs": [
    {
     "name": "stdout",
     "output_type": "stream",
     "text": [
      "Maitri\n",
      "Desai\n"
     ]
    }
   ],
   "source": [
    "print(\"Maitri\")\n",
    "print(\"Desai\")"
   ]
  },
  {
   "cell_type": "code",
   "execution_count": 6,
   "id": "ba66de89",
   "metadata": {},
   "outputs": [
    {
     "name": "stdout",
     "output_type": "stream",
     "text": [
      "Maitri Desai\n"
     ]
    }
   ],
   "source": [
    "print(\"Maitri\", end=' ')\n",
    "print(\"Desai\")"
   ]
  },
  {
   "cell_type": "code",
   "execution_count": 7,
   "id": "894873da",
   "metadata": {},
   "outputs": [],
   "source": [
    "#data structure :\n",
    "#list\n",
    "#tuple\n",
    "#set\n",
    "#dictionary"
   ]
  },
  {
   "cell_type": "code",
   "execution_count": 8,
   "id": "180fbf3c",
   "metadata": {},
   "outputs": [],
   "source": [
    "#list - mutable in nature:\n",
    "ls = [\"Mango\",\"Apple\",\"Orange\"]"
   ]
  },
  {
   "cell_type": "code",
   "execution_count": 9,
   "id": "bcd05eec",
   "metadata": {},
   "outputs": [
    {
     "data": {
      "text/plain": [
       "['__add__',\n",
       " '__class__',\n",
       " '__class_getitem__',\n",
       " '__contains__',\n",
       " '__delattr__',\n",
       " '__delitem__',\n",
       " '__dir__',\n",
       " '__doc__',\n",
       " '__eq__',\n",
       " '__format__',\n",
       " '__ge__',\n",
       " '__getattribute__',\n",
       " '__getitem__',\n",
       " '__gt__',\n",
       " '__hash__',\n",
       " '__iadd__',\n",
       " '__imul__',\n",
       " '__init__',\n",
       " '__init_subclass__',\n",
       " '__iter__',\n",
       " '__le__',\n",
       " '__len__',\n",
       " '__lt__',\n",
       " '__mul__',\n",
       " '__ne__',\n",
       " '__new__',\n",
       " '__reduce__',\n",
       " '__reduce_ex__',\n",
       " '__repr__',\n",
       " '__reversed__',\n",
       " '__rmul__',\n",
       " '__setattr__',\n",
       " '__setitem__',\n",
       " '__sizeof__',\n",
       " '__str__',\n",
       " '__subclasshook__',\n",
       " 'append',\n",
       " 'clear',\n",
       " 'copy',\n",
       " 'count',\n",
       " 'extend',\n",
       " 'index',\n",
       " 'insert',\n",
       " 'pop',\n",
       " 'remove',\n",
       " 'reverse',\n",
       " 'sort']"
      ]
     },
     "execution_count": 9,
     "metadata": {},
     "output_type": "execute_result"
    }
   ],
   "source": [
    "dir(ls)"
   ]
  },
  {
   "cell_type": "code",
   "execution_count": 10,
   "id": "d4e806cd",
   "metadata": {},
   "outputs": [],
   "source": [
    "#list - mutable in nature:\n",
    "ls = [\"Mango\",\"Apple\",\"Orange\"]"
   ]
  },
  {
   "cell_type": "code",
   "execution_count": 12,
   "id": "381bb3ff",
   "metadata": {},
   "outputs": [],
   "source": [
    "#tuple - is immutable\n",
    "tup = (1,2,3,4,5,6)"
   ]
  },
  {
   "cell_type": "code",
   "execution_count": 13,
   "id": "e9f3312f",
   "metadata": {},
   "outputs": [
    {
     "data": {
      "text/plain": [
       "['__add__',\n",
       " '__class__',\n",
       " '__class_getitem__',\n",
       " '__contains__',\n",
       " '__delattr__',\n",
       " '__dir__',\n",
       " '__doc__',\n",
       " '__eq__',\n",
       " '__format__',\n",
       " '__ge__',\n",
       " '__getattribute__',\n",
       " '__getitem__',\n",
       " '__getnewargs__',\n",
       " '__gt__',\n",
       " '__hash__',\n",
       " '__init__',\n",
       " '__init_subclass__',\n",
       " '__iter__',\n",
       " '__le__',\n",
       " '__len__',\n",
       " '__lt__',\n",
       " '__mul__',\n",
       " '__ne__',\n",
       " '__new__',\n",
       " '__reduce__',\n",
       " '__reduce_ex__',\n",
       " '__repr__',\n",
       " '__rmul__',\n",
       " '__setattr__',\n",
       " '__sizeof__',\n",
       " '__str__',\n",
       " '__subclasshook__',\n",
       " 'count',\n",
       " 'index']"
      ]
     },
     "execution_count": 13,
     "metadata": {},
     "output_type": "execute_result"
    }
   ],
   "source": [
    "dir(tup)"
   ]
  },
  {
   "cell_type": "code",
   "execution_count": 14,
   "id": "a8afbf50",
   "metadata": {},
   "outputs": [],
   "source": [
    "st = {12,12,41,15,21,14,15,35}"
   ]
  },
  {
   "cell_type": "code",
   "execution_count": 15,
   "id": "1d67851e",
   "metadata": {},
   "outputs": [
    {
     "name": "stdout",
     "output_type": "stream",
     "text": [
      "{35, 21, 41, 12, 14, 15}\n"
     ]
    }
   ],
   "source": [
    "print(st)"
   ]
  },
  {
   "cell_type": "code",
   "execution_count": 16,
   "id": "763b216c",
   "metadata": {},
   "outputs": [],
   "source": [
    "dic = {'A' : \"maitri\", 'B' : \"Pandya\"}"
   ]
  },
  {
   "cell_type": "code",
   "execution_count": 17,
   "id": "2ca6ca73",
   "metadata": {},
   "outputs": [
    {
     "name": "stdout",
     "output_type": "stream",
     "text": [
      "<class 'dict'>\n"
     ]
    }
   ],
   "source": [
    "print(type(dic))"
   ]
  },
  {
   "cell_type": "code",
   "execution_count": 18,
   "id": "c3b83606",
   "metadata": {},
   "outputs": [
    {
     "name": "stdout",
     "output_type": "stream",
     "text": [
      "{'A': 'maitri', 'B': 'Pandya'}\n"
     ]
    }
   ],
   "source": [
    "print(dic)"
   ]
  },
  {
   "cell_type": "code",
   "execution_count": 19,
   "id": "5b80dfb4",
   "metadata": {},
   "outputs": [
    {
     "name": "stdout",
     "output_type": "stream",
     "text": [
      "maitri\n"
     ]
    }
   ],
   "source": [
    "print(dic['A'])"
   ]
  },
  {
   "cell_type": "code",
   "execution_count": 20,
   "id": "7b856df1",
   "metadata": {},
   "outputs": [],
   "source": [
    "#Dicision control structure:"
   ]
  },
  {
   "cell_type": "code",
   "execution_count": 21,
   "id": "ed796100",
   "metadata": {},
   "outputs": [],
   "source": [
    "ls = [\"maitri\",\"desai\",\"pandya\"]"
   ]
  },
  {
   "cell_type": "code",
   "execution_count": 23,
   "id": "165b1b89",
   "metadata": {},
   "outputs": [
    {
     "name": "stdout",
     "output_type": "stream",
     "text": [
      "['maitri', 'desai', 'pandya']\n"
     ]
    }
   ],
   "source": [
    "print(ls)\n",
    "     \n",
    "    "
   ]
  },
  {
   "cell_type": "code",
   "execution_count": null,
   "id": "7bbb6245",
   "metadata": {},
   "outputs": [],
   "source": [
    "#operators :\n",
    "#membership operator : in, not in"
   ]
  },
  {
   "cell_type": "code",
   "execution_count": 24,
   "id": "a27ac059",
   "metadata": {},
   "outputs": [
    {
     "data": {
      "text/plain": [
       "True"
      ]
     },
     "execution_count": 24,
     "metadata": {},
     "output_type": "execute_result"
    }
   ],
   "source": [
    "\"maitri\" in ls"
   ]
  },
  {
   "cell_type": "code",
   "execution_count": 25,
   "id": "3d0bed27",
   "metadata": {},
   "outputs": [
    {
     "data": {
      "text/plain": [
       "False"
      ]
     },
     "execution_count": 25,
     "metadata": {},
     "output_type": "execute_result"
    }
   ],
   "source": [
    "\"maitri\" not in ls"
   ]
  },
  {
   "cell_type": "code",
   "execution_count": 26,
   "id": "246bd304",
   "metadata": {},
   "outputs": [],
   "source": [
    "tup = (25,35,42,852,6,4)\n"
   ]
  },
  {
   "cell_type": "code",
   "execution_count": 27,
   "id": "91a77e96",
   "metadata": {},
   "outputs": [
    {
     "data": {
      "text/plain": [
       "True"
      ]
     },
     "execution_count": 27,
     "metadata": {},
     "output_type": "execute_result"
    }
   ],
   "source": [
    "25 in tup"
   ]
  },
  {
   "cell_type": "code",
   "execution_count": 28,
   "id": "277949a3",
   "metadata": {},
   "outputs": [
    {
     "data": {
      "text/plain": [
       "False"
      ]
     },
     "execution_count": 28,
     "metadata": {},
     "output_type": "execute_result"
    }
   ],
   "source": [
    "360 in tup"
   ]
  },
  {
   "cell_type": "code",
   "execution_count": 29,
   "id": "bca34c42",
   "metadata": {},
   "outputs": [
    {
     "data": {
      "text/plain": [
       "25"
      ]
     },
     "execution_count": 29,
     "metadata": {},
     "output_type": "execute_result"
    }
   ],
   "source": [
    "tup[0]"
   ]
  },
  {
   "cell_type": "code",
   "execution_count": 30,
   "id": "6c2854d8",
   "metadata": {},
   "outputs": [
    {
     "ename": "TypeError",
     "evalue": "'tuple' object does not support item assignment",
     "output_type": "error",
     "traceback": [
      "\u001b[1;31m---------------------------------------------------------------------------\u001b[0m",
      "\u001b[1;31mTypeError\u001b[0m                                 Traceback (most recent call last)",
      "Cell \u001b[1;32mIn[30], line 1\u001b[0m\n\u001b[1;32m----> 1\u001b[0m tup[\u001b[38;5;241m2\u001b[39m] \u001b[38;5;241m=\u001b[39m \u001b[38;5;241m252\u001b[39m\n",
      "\u001b[1;31mTypeError\u001b[0m: 'tuple' object does not support item assignment"
     ]
    }
   ],
   "source": [
    "tup[2] = 252"
   ]
  },
  {
   "cell_type": "code",
   "execution_count": 31,
   "id": "20616e0d",
   "metadata": {},
   "outputs": [
    {
     "data": {
      "text/plain": [
       "'desai'"
      ]
     },
     "execution_count": 31,
     "metadata": {},
     "output_type": "execute_result"
    }
   ],
   "source": [
    "ls[1]"
   ]
  },
  {
   "cell_type": "code",
   "execution_count": 32,
   "id": "3d80938e",
   "metadata": {},
   "outputs": [
    {
     "data": {
      "text/plain": [
       "['maitri', 'desai', 'pandya']"
      ]
     },
     "execution_count": 32,
     "metadata": {},
     "output_type": "execute_result"
    }
   ],
   "source": [
    "ls"
   ]
  },
  {
   "cell_type": "code",
   "execution_count": 33,
   "id": "b5e40312",
   "metadata": {},
   "outputs": [
    {
     "data": {
      "text/plain": [
       "{12, 14, 15, 21, 35, 41}"
      ]
     },
     "execution_count": 33,
     "metadata": {},
     "output_type": "execute_result"
    }
   ],
   "source": [
    "st"
   ]
  },
  {
   "cell_type": "code",
   "execution_count": 34,
   "id": "2282c018",
   "metadata": {},
   "outputs": [
    {
     "ename": "TypeError",
     "evalue": "'set' object does not support item assignment",
     "output_type": "error",
     "traceback": [
      "\u001b[1;31m---------------------------------------------------------------------------\u001b[0m",
      "\u001b[1;31mTypeError\u001b[0m                                 Traceback (most recent call last)",
      "Cell \u001b[1;32mIn[34], line 1\u001b[0m\n\u001b[1;32m----> 1\u001b[0m st[\u001b[38;5;241m1\u001b[39m] \u001b[38;5;241m=\u001b[39m \u001b[38;5;241m25\u001b[39m\n",
      "\u001b[1;31mTypeError\u001b[0m: 'set' object does not support item assignment"
     ]
    }
   ],
   "source": [
    "st[1] = 25"
   ]
  },
  {
   "cell_type": "code",
   "execution_count": 35,
   "id": "d01d4e6d",
   "metadata": {},
   "outputs": [
    {
     "data": {
      "text/plain": [
       "{'A': 'maitri', 'B': 'Pandya'}"
      ]
     },
     "execution_count": 35,
     "metadata": {},
     "output_type": "execute_result"
    }
   ],
   "source": [
    "dic"
   ]
  },
  {
   "cell_type": "code",
   "execution_count": 36,
   "id": "13a4d3a0",
   "metadata": {},
   "outputs": [
    {
     "data": {
      "text/plain": [
       "'maitri'"
      ]
     },
     "execution_count": 36,
     "metadata": {},
     "output_type": "execute_result"
    }
   ],
   "source": [
    "dic['A']"
   ]
  },
  {
   "cell_type": "code",
   "execution_count": 37,
   "id": "0c73c586",
   "metadata": {},
   "outputs": [],
   "source": [
    "dic['A'] = \"Desai\""
   ]
  },
  {
   "cell_type": "code",
   "execution_count": 38,
   "id": "9f979c0c",
   "metadata": {},
   "outputs": [
    {
     "data": {
      "text/plain": [
       "{'A': 'Desai', 'B': 'Pandya'}"
      ]
     },
     "execution_count": 38,
     "metadata": {},
     "output_type": "execute_result"
    }
   ],
   "source": [
    "dic"
   ]
  },
  {
   "cell_type": "code",
   "execution_count": 39,
   "id": "0a3bd63f",
   "metadata": {},
   "outputs": [
    {
     "data": {
      "text/plain": [
       "{12, 14, 15, 21, 35, 41}"
      ]
     },
     "execution_count": 39,
     "metadata": {},
     "output_type": "execute_result"
    }
   ],
   "source": [
    "st"
   ]
  },
  {
   "cell_type": "code",
   "execution_count": 40,
   "id": "86ed7e07",
   "metadata": {},
   "outputs": [],
   "source": [
    "st.add(25)"
   ]
  },
  {
   "cell_type": "code",
   "execution_count": 41,
   "id": "c088c3cf",
   "metadata": {},
   "outputs": [
    {
     "data": {
      "text/plain": [
       "{12, 14, 15, 21, 25, 35, 41}"
      ]
     },
     "execution_count": 41,
     "metadata": {},
     "output_type": "execute_result"
    }
   ],
   "source": [
    "st"
   ]
  },
  {
   "cell_type": "code",
   "execution_count": 42,
   "id": "015b3323",
   "metadata": {},
   "outputs": [
    {
     "ename": "TypeError",
     "evalue": "unhashable type: 'list'",
     "output_type": "error",
     "traceback": [
      "\u001b[1;31m---------------------------------------------------------------------------\u001b[0m",
      "\u001b[1;31mTypeError\u001b[0m                                 Traceback (most recent call last)",
      "Cell \u001b[1;32mIn[42], line 1\u001b[0m\n\u001b[1;32m----> 1\u001b[0m \u001b[43mst\u001b[49m\u001b[38;5;241;43m.\u001b[39;49m\u001b[43madd\u001b[49m\u001b[43m(\u001b[49m\u001b[43m[\u001b[49m\u001b[38;5;241;43m1\u001b[39;49m\u001b[43m,\u001b[49m\u001b[38;5;241;43m2\u001b[39;49m\u001b[43m,\u001b[49m\u001b[38;5;241;43m3\u001b[39;49m\u001b[43m]\u001b[49m\u001b[43m)\u001b[49m\n",
      "\u001b[1;31mTypeError\u001b[0m: unhashable type: 'list'"
     ]
    }
   ],
   "source": [
    "st.add([1,2,3])"
   ]
  },
  {
   "cell_type": "code",
   "execution_count": 43,
   "id": "1a569ada",
   "metadata": {},
   "outputs": [
    {
     "data": {
      "text/plain": [
       "['maitri', 'desai', 'pandya']"
      ]
     },
     "execution_count": 43,
     "metadata": {},
     "output_type": "execute_result"
    }
   ],
   "source": [
    "ls"
   ]
  },
  {
   "cell_type": "code",
   "execution_count": 44,
   "id": "86a93389",
   "metadata": {},
   "outputs": [],
   "source": [
    "ls[1] = [25,35,42]"
   ]
  },
  {
   "cell_type": "code",
   "execution_count": 45,
   "id": "38367072",
   "metadata": {},
   "outputs": [
    {
     "data": {
      "text/plain": [
       "['maitri', [25, 35, 42], 'pandya']"
      ]
     },
     "execution_count": 45,
     "metadata": {},
     "output_type": "execute_result"
    }
   ],
   "source": [
    "ls"
   ]
  },
  {
   "cell_type": "code",
   "execution_count": 46,
   "id": "ebe026f3",
   "metadata": {},
   "outputs": [],
   "source": [
    "ls[2] = (2,3,69,9)"
   ]
  },
  {
   "cell_type": "code",
   "execution_count": 47,
   "id": "90a22dfb",
   "metadata": {},
   "outputs": [
    {
     "data": {
      "text/plain": [
       "['maitri', [25, 35, 42], (2, 3, 69, 9)]"
      ]
     },
     "execution_count": 47,
     "metadata": {},
     "output_type": "execute_result"
    }
   ],
   "source": [
    "ls"
   ]
  },
  {
   "cell_type": "code",
   "execution_count": 48,
   "id": "1a519cb5",
   "metadata": {},
   "outputs": [],
   "source": [
    "ls.append(\"Data science\")"
   ]
  },
  {
   "cell_type": "code",
   "execution_count": 49,
   "id": "39c20a70",
   "metadata": {},
   "outputs": [
    {
     "data": {
      "text/plain": [
       "['maitri', [25, 35, 42], (2, 3, 69, 9), 'Data science']"
      ]
     },
     "execution_count": 49,
     "metadata": {},
     "output_type": "execute_result"
    }
   ],
   "source": [
    "ls"
   ]
  },
  {
   "cell_type": "code",
   "execution_count": 50,
   "id": "b2409b79",
   "metadata": {},
   "outputs": [
    {
     "data": {
      "text/plain": [
       "'Data science'"
      ]
     },
     "execution_count": 50,
     "metadata": {},
     "output_type": "execute_result"
    }
   ],
   "source": [
    "ls.pop()"
   ]
  },
  {
   "cell_type": "code",
   "execution_count": 51,
   "id": "7b485fea",
   "metadata": {},
   "outputs": [
    {
     "data": {
      "text/plain": [
       "['maitri', [25, 35, 42], (2, 3, 69, 9)]"
      ]
     },
     "execution_count": 51,
     "metadata": {},
     "output_type": "execute_result"
    }
   ],
   "source": [
    "ls"
   ]
  },
  {
   "cell_type": "code",
   "execution_count": 52,
   "id": "176ddd9c",
   "metadata": {},
   "outputs": [],
   "source": [
    "# decision control structure"
   ]
  },
  {
   "cell_type": "code",
   "execution_count": 53,
   "id": "4be76bab",
   "metadata": {},
   "outputs": [],
   "source": [
    "ls = [25,35,25,45,75,12,32]"
   ]
  },
  {
   "cell_type": "code",
   "execution_count": 54,
   "id": "c522dd20",
   "metadata": {},
   "outputs": [
    {
     "data": {
      "text/plain": [
       "[25, 35, 25, 45, 75, 12, 32]"
      ]
     },
     "execution_count": 54,
     "metadata": {},
     "output_type": "execute_result"
    }
   ],
   "source": [
    "#slicing of list\n",
    "ls[0: ]"
   ]
  },
  {
   "cell_type": "code",
   "execution_count": 55,
   "id": "fce3fec4",
   "metadata": {},
   "outputs": [
    {
     "data": {
      "text/plain": [
       "[25, 25, 75, 32]"
      ]
     },
     "execution_count": 55,
     "metadata": {},
     "output_type": "execute_result"
    }
   ],
   "source": [
    "ls[0: : 2]"
   ]
  },
  {
   "cell_type": "code",
   "execution_count": 56,
   "id": "fd6898d2",
   "metadata": {},
   "outputs": [],
   "source": [
    "ls = [1,2,3,4,5,6,7,8,9,10]"
   ]
  },
  {
   "cell_type": "code",
   "execution_count": 57,
   "id": "0fb0399b",
   "metadata": {},
   "outputs": [
    {
     "data": {
      "text/plain": [
       "[1, 2, 3, 4, 5, 6]"
      ]
     },
     "execution_count": 57,
     "metadata": {},
     "output_type": "execute_result"
    }
   ],
   "source": [
    "ls[0:6]"
   ]
  },
  {
   "cell_type": "code",
   "execution_count": 58,
   "id": "b406d4ae",
   "metadata": {},
   "outputs": [
    {
     "data": {
      "text/plain": [
       "[1, 2, 3, 4, 5, 6, 7, 8, 9, 10]"
      ]
     },
     "execution_count": 58,
     "metadata": {},
     "output_type": "execute_result"
    }
   ],
   "source": [
    "ls"
   ]
  },
  {
   "cell_type": "code",
   "execution_count": 59,
   "id": "862e1928",
   "metadata": {},
   "outputs": [
    {
     "data": {
      "text/plain": [
       "[2, 3, 4, 5, 6, 7, 8, 9]"
      ]
     },
     "execution_count": 59,
     "metadata": {},
     "output_type": "execute_result"
    }
   ],
   "source": [
    "ls[-9:-1]"
   ]
  },
  {
   "cell_type": "code",
   "execution_count": 60,
   "id": "76a382b8",
   "metadata": {},
   "outputs": [],
   "source": [
    "#6/6/2023\n",
    "\n",
    "#Operator in python\n",
    "\n",
    "#Arithmetic : +.-.*./.%,**,//\n",
    "#Comparision operator : >, <, >=, <=, ==, !=\n",
    "#Decision Control Structure : if, if else, if elif else"
   ]
  },
  {
   "cell_type": "code",
   "execution_count": 61,
   "id": "ac4249e1",
   "metadata": {},
   "outputs": [],
   "source": [
    "# prime number : 1-100\n",
    "#prim number : any no which has exactly have 2 factor"
   ]
  },
  {
   "cell_type": "code",
   "execution_count": 62,
   "id": "8f850e86",
   "metadata": {},
   "outputs": [
    {
     "name": "stdout",
     "output_type": "stream",
     "text": [
      "Enter the no : 5\n",
      "you are not eligible to vote\n"
     ]
    }
   ],
   "source": [
    "num = int(input(\"Enter the no : \"))\n",
    "if(num>=18):\n",
    "    print (f'you are eligible to vote')\n",
    "else:\n",
    "    print(f'you are not eligible to vote')"
   ]
  },
  {
   "cell_type": "code",
   "execution_count": 63,
   "id": "b08bc1a9",
   "metadata": {},
   "outputs": [
    {
     "name": "stdout",
     "output_type": "stream",
     "text": [
      "Enter the 1st no : 6\n",
      "Enter the 2nd no : 2\n",
      "1st is greater\n"
     ]
    }
   ],
   "source": [
    "num1= int(input(\"Enter the 1st no : \"))\n",
    "num2= int(input(\"Enter the 2nd no : \"))\n",
    "if(num1>num2):\n",
    "    print(f'1st is greater')\n",
    "else:\n",
    "    print(f'2nd is greater')"
   ]
  },
  {
   "cell_type": "code",
   "execution_count": 64,
   "id": "c153a639",
   "metadata": {},
   "outputs": [
    {
     "name": "stdout",
     "output_type": "stream",
     "text": [
      "Enter the 1st no : 8\n",
      "Enter the 2nd no : 5\n",
      "Enter the 3rd no : 6\n",
      "1st is greater\n"
     ]
    }
   ],
   "source": [
    "num1= int(input(\"Enter the 1st no : \"))\n",
    "num2= int(input(\"Enter the 2nd no : \"))\n",
    "num3= int(input(\"Enter the 3rd no : \"))\n",
    "if(num1>num2):\n",
    "    if(num1>num3):\n",
    "        print(f'1st is greater')\n",
    "elif (num2>num3):\n",
    "    print(f'2nd is greater')\n",
    "else:\n",
    "    print(f'3rd is greater')"
   ]
  },
  {
   "cell_type": "code",
   "execution_count": 65,
   "id": "5dfd32a7",
   "metadata": {},
   "outputs": [],
   "source": [
    "#volume of sphere : 4/3 * pi *  r*r*r"
   ]
  },
  {
   "cell_type": "code",
   "execution_count": 67,
   "id": "b4f7862e",
   "metadata": {},
   "outputs": [
    {
     "name": "stdout",
     "output_type": "stream",
     "text": [
      "Enter the radius of sphere : 5\n"
     ]
    }
   ],
   "source": [
    "radius_of_sphere = float(input(\"Enter the radius of sphere : \"))\n",
    "volume_of_sphere = (1.33 * 3.14 * radius_of_sphere *  radius_of_sphere *  radius_of_sphere)"
   ]
  },
  {
   "cell_type": "code",
   "execution_count": 68,
   "id": "49b1a06b",
   "metadata": {},
   "outputs": [
    {
     "name": "stdout",
     "output_type": "stream",
     "text": [
      "volume of sphere is : 522.0250000000001\n"
     ]
    }
   ],
   "source": [
    "print(f'volume of sphere is : {volume_of_sphere}')"
   ]
  },
  {
   "cell_type": "code",
   "execution_count": 69,
   "id": "9d3b039f",
   "metadata": {},
   "outputs": [
    {
     "name": "stdout",
     "output_type": "stream",
     "text": [
      "Enter the Gender :(Male/Female)female\n",
      "You are female\n",
      "Which car do you like : (sports/non-sports) sports\n",
      "You like Sports Car :\n",
      "Enter the market price :525\n",
      "110.25\n"
     ]
    }
   ],
   "source": [
    "#Example : car Insurance\n",
    "\n",
    "gender = input(\"Enter the Gender :(Male/Female)\")\n",
    "gender = gender.lower()\n",
    "if (gender == \"male\"):\n",
    "    print(\"You are Male\")\n",
    "    age = int(input(\"Enter your age :\"))\n",
    "    if(age<=26):\n",
    "        percentage = 23\n",
    "    else: \n",
    "        percentage = 9    \n",
    "elif(gender == \"female\"):\n",
    "    print(\"You are female\")\n",
    "    car_choice = input(\"Which car do you like : (sports/non-sports) \")\n",
    "    if car_choice==\"sports\":\n",
    "        print(\"You like Sports Car :\")\n",
    "        percentage = 21\n",
    "    else: \n",
    "        print(\"You like Non Sports Car :\")\n",
    "        percentage = 10\n",
    "else:\n",
    "    print(\"Wrong format\")\n",
    "market_price = int(input(\"Enter the market price :\"))\n",
    "ensurance_offer = (market_price * percentage * 0.01)\n",
    "print(f'{ensurance_offer}')"
   ]
  },
  {
   "cell_type": "code",
   "execution_count": 70,
   "id": "061da896",
   "metadata": {},
   "outputs": [],
   "source": [
    "#8/6/23\n",
    "\n",
    "#logical operator : and, or, not\n",
    "\n",
    "#Looping : while, for in"
   ]
  },
  {
   "cell_type": "code",
   "execution_count": 71,
   "id": "7c72b4ed",
   "metadata": {},
   "outputs": [
    {
     "name": "stdout",
     "output_type": "stream",
     "text": [
      "Enter your username :mairyuj\n",
      "Enter your Password : dS\n",
      "Bhag ja yaha se\n"
     ]
    }
   ],
   "source": [
    "username = input(\"Enter your username :\")\n",
    "Password = input(\"Enter your Password : \")\n",
    "\n",
    "if username == \"pooja@gmail.com\" and Password == \"123456\":\n",
    "    print(\"Welcome pooja! you have sucessfully logged in\")\n",
    "elif username == \"pooja@gmail.com\" and Password != \"123456\":\n",
    "    print(\"Wrong password! Try again\")\n",
    "    PassWord = input(\"Enter your Password Again :\")\n",
    "    if Password == '123456':\n",
    "         print(\"Finally you logged in :\")\n",
    "    else:\n",
    "        print(\"Beta tumse na ho payega\")\n",
    "else:\n",
    "    print(\"Bhag ja yaha se\")"
   ]
  },
  {
   "cell_type": "code",
   "execution_count": null,
   "id": "4c722c7a",
   "metadata": {},
   "outputs": [],
   "source": [
    "username = input(\"Enter your username :\")\n",
    "Password = input(\"Enter your Password : \")\n",
    "\n",
    "if username == \"pooja@gmail.com\" and Password == \"123456\":\n",
    "    print(\"Welcome pooja! you have sucessfully logged in\")\n",
    "elif username == \"pooja@gmail.com\" and Password != \"123456\":\n",
    "    print(\"Wrong password! Try again\")\n",
    "    PassWord = input(\"Enter your Password Again :\")\n",
    "    if Password == '123456':\n",
    "         print(\"Finally you logged in :\")\n",
    "    else:\n",
    "        print(\"Beta tumse na ho payega\")\n",
    "else:\n",
    "    print(\"Bhag ja yaha se\")"
   ]
  },
  {
   "cell_type": "code",
   "execution_count": null,
   "id": "b77aeaa0",
   "metadata": {},
   "outputs": [],
   "source": [
    "#Logical operator\n",
    "\n",
    "#i like tea and coffee\n",
    "#either i like tea or coffee\n",
    "\n",
    "#and\n",
    "# true true true\n",
    "# true false false\n",
    "# false true false\n",
    "# false false false\n",
    "\n",
    "#or\n",
    "# true true true\n",
    "# true false true\n",
    "# false true true\n",
    "# false false false\n",
    "\n",
    "#not\n",
    "# true false\n",
    "# false true"
   ]
  },
  {
   "cell_type": "code",
   "execution_count": null,
   "id": "d77e1a84",
   "metadata": {},
   "outputs": [],
   "source": [
    "#leap year : any normal year is divisible by 4 and Century year is divisible by 400 "
   ]
  },
  {
   "cell_type": "code",
   "execution_count": 2,
   "id": "e675063a",
   "metadata": {},
   "outputs": [
    {
     "name": "stdout",
     "output_type": "stream",
     "text": [
      "Enter year :1800\n",
      "Its not leap year\n"
     ]
    }
   ],
   "source": [
    "year = int(input(\"Enter year :\"))\n",
    "if year%400 == 0 and year%100 != 0:\n",
    "    print(\"It is a leap year\")\n",
    "elif year% 4 == 0 and year%100 != 0:\n",
    "    print(\"It is a leap year\")\n",
    "else:\n",
    "    print(\"Its not leap year\")\n",
    "    "
   ]
  },
  {
   "cell_type": "code",
   "execution_count": 3,
   "id": "942728ce",
   "metadata": {},
   "outputs": [
    {
     "name": "stdout",
     "output_type": "stream",
     "text": [
      "Enter year :2014\n",
      "Its not leap year\n"
     ]
    }
   ],
   "source": [
    "year = int(input(\"Enter year :\"))\n",
    "if ((year%400 == 0 and year%100 != 0 or year% 4 == 0 and year%100 != 0)):\n",
    "    print(\"It is a leap year\")\n",
    "else:\n",
    "    print(\"Its not leap year\")"
   ]
  },
  {
   "cell_type": "code",
   "execution_count": 4,
   "id": "a52140eb",
   "metadata": {},
   "outputs": [],
   "source": [
    "#13/6/23\n",
    "\n",
    "#example : in hand monthly salary after deduction on \n",
    "#CTC - HRA(10%)\n",
    "#DA (5%)\n",
    "#pf(3%)\n",
    " \n",
    "# taxes deduction\n",
    "# Salary(lakhs) : tax(%)\n",
    "#     below 5 = 0%\n",
    "#     5-10 = 10%\n",
    "#     10-0 = 20%\n",
    "#     above 20 = 30%"
   ]
  },
  {
   "cell_type": "code",
   "execution_count": 6,
   "id": "c8efbb7f",
   "metadata": {},
   "outputs": [
    {
     "name": "stdout",
     "output_type": "stream",
     "text": [
      "Enter your salary :50000000\n",
      "HRA is:\n",
      "your salary after hra is : 45000000.0\n",
      "DA is:\n",
      "your salary after da is : 42500000.0\n",
      "pf is:\n",
      "your salary after pf is : 41000000.0\n",
      "Your salary is more than 20 lakhs\n",
      "Your salary amount is :  28700000.0\n"
     ]
    }
   ],
   "source": [
    "salary = float(input(\"Enter your salary :\"))\n",
    "hra = salary * 0.10\n",
    "print (\"HRA is:\")\n",
    "amount = (salary-hra)\n",
    "print (\"your salary after hra is :\",amount)\n",
    "da = salary * 0.05\n",
    "print (\"DA is:\")\n",
    "amount = (amount-da)\n",
    "print (\"your salary after da is :\",amount)\n",
    "pf = salary * 0.03\n",
    "print (\"pf is:\")\n",
    "amount = (amount-pf)\n",
    "print (\"your salary after pf is :\",amount)\n",
    "\n",
    "if (salary <= 500000):\n",
    "    print(\"Your salary is below 5 lakhs\") \n",
    "    tax_percentage = 0\n",
    "elif (salary <= 1000000):\n",
    "    print(\"Your salary is between 5 to 10 lakhs\") \n",
    "    tax_percentage = 10\n",
    "elif (salary <= 2000000):\n",
    "    print(\"Your salary is between 10 to 20 lakhs\") \n",
    "    tax_percentage = 20\n",
    "elif (salary > 2000000):\n",
    "    print(\"Your salary is more than 20 lakhs\") \n",
    "    tax_percentage = 30\n",
    "else:\n",
    "    print(\"Wrong format\")\n",
    "tax_charges= (amount * tax_percentage * 0.01)\n",
    "final_salary = amount-tax_charges\n",
    "print(\"Your salary amount is : \",final_salary)"
   ]
  },
  {
   "cell_type": "code",
   "execution_count": 7,
   "id": "5c94de4c",
   "metadata": {},
   "outputs": [],
   "source": [
    "#15/6/23.\n",
    "#Looping\n",
    "#Assignment operator = =, +=, -=, /=, %=\n",
    "#increment operator and decrement operator"
   ]
  },
  {
   "cell_type": "code",
   "execution_count": 8,
   "id": "61d8bb4c",
   "metadata": {},
   "outputs": [],
   "source": [
    "#while\n",
    "#for in"
   ]
  },
  {
   "cell_type": "code",
   "execution_count": 9,
   "id": "c51d4cc8",
   "metadata": {},
   "outputs": [
    {
     "name": "stdout",
     "output_type": "stream",
     "text": [
      "1\n",
      "2\n",
      "3\n",
      "4\n",
      "5\n",
      "6\n",
      "7\n",
      "8\n",
      "9\n",
      "10\n"
     ]
    }
   ],
   "source": [
    "i = 1\n",
    "while(i<=10):\n",
    "    print(i)\n",
    "    i=i+1"
   ]
  },
  {
   "cell_type": "code",
   "execution_count": 10,
   "id": "89b8b386",
   "metadata": {},
   "outputs": [
    {
     "name": "stdout",
     "output_type": "stream",
     "text": [
      "10\n",
      "9\n",
      "8\n",
      "7\n",
      "6\n",
      "5\n",
      "4\n",
      "3\n",
      "2\n",
      "1\n"
     ]
    }
   ],
   "source": [
    "i = 10\n",
    "while(i>0):\n",
    "    print(i)\n",
    "    i=i-1"
   ]
  },
  {
   "cell_type": "code",
   "execution_count": 11,
   "id": "16cb6968",
   "metadata": {},
   "outputs": [
    {
     "name": "stdout",
     "output_type": "stream",
     "text": [
      "0\n",
      "1\n",
      "2\n",
      "3\n",
      "4\n",
      "5\n",
      "6\n",
      "7\n",
      "8\n",
      "9\n"
     ]
    }
   ],
   "source": [
    "for i in range(10):\n",
    "    print(i)"
   ]
  },
  {
   "cell_type": "code",
   "execution_count": 12,
   "id": "a3112bdb",
   "metadata": {},
   "outputs": [],
   "source": [
    "#range (start, Stop, end)"
   ]
  },
  {
   "cell_type": "code",
   "execution_count": 13,
   "id": "818e02f3",
   "metadata": {},
   "outputs": [
    {
     "name": "stdout",
     "output_type": "stream",
     "text": [
      "1\n",
      "2\n",
      "3\n",
      "4\n",
      "5\n",
      "6\n",
      "7\n",
      "8\n",
      "9\n"
     ]
    }
   ],
   "source": [
    "for i  in range(1,10):\n",
    "    print(i)"
   ]
  },
  {
   "cell_type": "code",
   "execution_count": 14,
   "id": "eae1c1be",
   "metadata": {},
   "outputs": [
    {
     "name": "stdout",
     "output_type": "stream",
     "text": [
      "1\n",
      "3\n",
      "5\n",
      "7\n",
      "9\n"
     ]
    }
   ],
   "source": [
    "for i in range(1,10,2): \n",
    "    print(i)"
   ]
  },
  {
   "cell_type": "code",
   "execution_count": 15,
   "id": "af835713",
   "metadata": {},
   "outputs": [
    {
     "name": "stdout",
     "output_type": "stream",
     "text": [
      "1\n",
      "4\n",
      "7\n"
     ]
    }
   ],
   "source": [
    "for i in range(1,10,3): \n",
    "    print(i)"
   ]
  },
  {
   "cell_type": "code",
   "execution_count": 16,
   "id": "cb13ea11",
   "metadata": {},
   "outputs": [
    {
     "name": "stdout",
     "output_type": "stream",
     "text": [
      "1\n",
      "2\n",
      "3\n",
      "4\n",
      "5\n",
      "6\n",
      "7\n",
      "8\n",
      "9\n",
      "10\n",
      "11\n",
      "12\n",
      "13\n",
      "14\n",
      "15\n",
      "16\n",
      "17\n",
      "18\n",
      "19\n",
      "20\n",
      "21\n",
      "22\n",
      "23\n",
      "24\n",
      "25\n",
      "26\n",
      "27\n",
      "28\n",
      "29\n",
      "30\n",
      "31\n",
      "32\n",
      "33\n",
      "34\n",
      "35\n",
      "36\n",
      "37\n",
      "38\n",
      "39\n",
      "40\n",
      "41\n",
      "42\n",
      "43\n",
      "44\n",
      "45\n",
      "46\n",
      "47\n",
      "48\n",
      "49\n",
      "50\n",
      "51\n",
      "52\n",
      "53\n",
      "54\n",
      "55\n",
      "56\n",
      "57\n",
      "58\n",
      "59\n",
      "60\n",
      "61\n",
      "62\n",
      "63\n",
      "64\n",
      "65\n",
      "66\n",
      "67\n",
      "68\n",
      "69\n",
      "70\n",
      "71\n",
      "72\n",
      "73\n",
      "74\n",
      "75\n",
      "76\n",
      "77\n",
      "78\n",
      "79\n",
      "80\n",
      "81\n",
      "82\n",
      "83\n",
      "84\n",
      "85\n",
      "86\n",
      "87\n",
      "88\n",
      "89\n",
      "90\n",
      "91\n",
      "92\n",
      "93\n",
      "94\n",
      "95\n",
      "96\n",
      "97\n",
      "98\n",
      "99\n",
      "100\n"
     ]
    }
   ],
   "source": [
    "i = 1\n",
    "while(i<=100):\n",
    "    print(i)\n",
    "    i=i+1"
   ]
  },
  {
   "cell_type": "code",
   "execution_count": 17,
   "id": "c74da6b0",
   "metadata": {},
   "outputs": [
    {
     "name": "stdout",
     "output_type": "stream",
     "text": [
      "2\n",
      "4\n",
      "6\n",
      "8\n",
      "10\n",
      "12\n",
      "14\n",
      "16\n",
      "18\n",
      "20\n",
      "22\n",
      "24\n",
      "26\n",
      "28\n",
      "30\n",
      "32\n",
      "34\n",
      "36\n",
      "38\n",
      "40\n",
      "42\n",
      "44\n",
      "46\n",
      "48\n",
      "50\n",
      "52\n",
      "54\n",
      "56\n",
      "58\n",
      "60\n",
      "62\n",
      "64\n",
      "66\n",
      "68\n",
      "70\n",
      "72\n",
      "74\n",
      "76\n",
      "78\n",
      "80\n",
      "82\n",
      "84\n",
      "86\n",
      "88\n",
      "90\n",
      "92\n",
      "94\n",
      "96\n",
      "98\n",
      "100\n"
     ]
    }
   ],
   "source": [
    "#even no\n",
    "\n",
    "i = 1\n",
    "while(i<=100):\n",
    "    if(i%2==0):\n",
    "        print(i)\n",
    "    i=i+1"
   ]
  },
  {
   "cell_type": "code",
   "execution_count": 18,
   "id": "57063c91",
   "metadata": {},
   "outputs": [
    {
     "name": "stdout",
     "output_type": "stream",
     "text": [
      "1\n",
      "3\n",
      "5\n",
      "7\n",
      "9\n",
      "11\n",
      "13\n",
      "15\n",
      "17\n",
      "19\n",
      "21\n",
      "23\n",
      "25\n",
      "27\n",
      "29\n",
      "31\n",
      "33\n",
      "35\n",
      "37\n",
      "39\n",
      "41\n",
      "43\n",
      "45\n",
      "47\n",
      "49\n",
      "51\n",
      "53\n",
      "55\n",
      "57\n",
      "59\n",
      "61\n",
      "63\n",
      "65\n",
      "67\n",
      "69\n",
      "71\n",
      "73\n",
      "75\n",
      "77\n",
      "79\n",
      "81\n",
      "83\n",
      "85\n",
      "87\n",
      "89\n",
      "91\n",
      "93\n",
      "95\n",
      "97\n",
      "99\n"
     ]
    }
   ],
   "source": [
    "#odd no\n",
    "\n",
    "i = 1\n",
    "while(i<=100):\n",
    "    if(i%2==1):\n",
    "        print(i)\n",
    "    i=i+1"
   ]
  },
  {
   "cell_type": "code",
   "execution_count": 21,
   "id": "8b2ab790",
   "metadata": {},
   "outputs": [
    {
     "name": "stdout",
     "output_type": "stream",
     "text": [
      "Enter Number :125\n",
      "sum of digit are :5\n",
      "sum of digit are :7\n",
      "sum of digit are :8\n"
     ]
    }
   ],
   "source": [
    "#number = 125 => 1+2+5 = 8\n",
    "number = int(input(\"Enter Number :\"))\n",
    "rem = 0\n",
    "sum_of_number = 0\n",
    "while(number>0):\n",
    "    rem = number % 10\n",
    "    sum_of_number = sum_of_number + rem\n",
    "    number = number // 10\n",
    "    print(f'sum of digit are :{sum_of_number}')"
   ]
  },
  {
   "cell_type": "code",
   "execution_count": 22,
   "id": "6e2b678e",
   "metadata": {},
   "outputs": [
    {
     "name": "stdout",
     "output_type": "stream",
     "text": [
      "Enter Number :521\n",
      "sum of digit are :125\n"
     ]
    }
   ],
   "source": [
    "#program reverse the number\n",
    "#number = 125 => 521\n",
    "number = int(input(\"Enter Number :\"))\n",
    "rem = 0\n",
    "reverse_of_number = 0\n",
    "while(number>0):\n",
    "    rem = number % 10\n",
    "    reverse_of_number = reverse_of_number * 10 + rem\n",
    "    number = number // 10\n",
    "print(f'sum of digit are :{reverse_of_number}')\n"
   ]
  },
  {
   "cell_type": "code",
   "execution_count": 23,
   "id": "2633998a",
   "metadata": {},
   "outputs": [
    {
     "name": "stdout",
     "output_type": "stream",
     "text": [
      "Enter Number :5\n",
      "Number is palindrome\n"
     ]
    }
   ],
   "source": [
    "#Palindrom\n",
    "number = int(input(\"Enter Number :\"))\n",
    "temp = number\n",
    "rev = 0\n",
    "reverse_of_number = 0\n",
    "while(number>0):\n",
    "    rem = number % 10\n",
    "    reverse_of_number = reverse_of_number * 10 + rem\n",
    "    number = number // 10\n",
    "if(temp == reverse_of_number):\n",
    "    print(\"Number is palindrome\")\n",
    "else:\n",
    "    print(\"Number is not palindrome\")"
   ]
  },
  {
   "cell_type": "code",
   "execution_count": 25,
   "id": "b7ea375b",
   "metadata": {},
   "outputs": [
    {
     "name": "stdout",
     "output_type": "stream",
     "text": [
      "0 0 0 0 0 \n",
      "1 1 1 1 1 \n",
      "2 2 2 2 2 \n",
      "3 3 3 3 3 \n",
      "4 4 4 4 4 \n"
     ]
    }
   ],
   "source": [
    "#20/6/23\n",
    "\n",
    "for i in range (5):\n",
    "    for j in range(5):\n",
    "        print(i,end=' ')\n",
    "    print()"
   ]
  },
  {
   "cell_type": "code",
   "execution_count": 26,
   "id": "bad31e4c",
   "metadata": {},
   "outputs": [
    {
     "name": "stdout",
     "output_type": "stream",
     "text": [
      "* * * * * \n",
      "* * * * * \n",
      "* * * * * \n",
      "* * * * * \n",
      "* * * * * \n"
     ]
    }
   ],
   "source": [
    "for i in range (1,6):\n",
    "    for j in range(1,6):\n",
    "        print(\"*\",end=' ')\n",
    "    print()"
   ]
  },
  {
   "cell_type": "code",
   "execution_count": 27,
   "id": "d22694e9",
   "metadata": {},
   "outputs": [
    {
     "name": "stdout",
     "output_type": "stream",
     "text": [
      "* \n",
      "* * \n",
      "* * * \n",
      "* * * * \n",
      "* * * * * \n"
     ]
    }
   ],
   "source": [
    "for i in range (1,6):\n",
    "    for j in range(1,i+1):\n",
    "        print(\"*\",end=' ')\n",
    "    print()"
   ]
  },
  {
   "cell_type": "code",
   "execution_count": 28,
   "id": "7e8243fb",
   "metadata": {},
   "outputs": [
    {
     "name": "stdout",
     "output_type": "stream",
     "text": [
      "1 \n",
      "2 2 \n",
      "3 3 3 \n",
      "4 4 4 4 \n",
      "5 5 5 5 5 \n"
     ]
    }
   ],
   "source": [
    "for i in range (0,5):\n",
    "    for j in range(0,i+1):\n",
    "        print(i+1,end=' ')\n",
    "    print()"
   ]
  },
  {
   "cell_type": "code",
   "execution_count": 29,
   "id": "d4564d3c",
   "metadata": {},
   "outputs": [
    {
     "name": "stdout",
     "output_type": "stream",
     "text": [
      "5 5 5 5 5 \n",
      "4 4 4 4 \n",
      "3 3 3 \n",
      "2 2 \n",
      "1 \n"
     ]
    }
   ],
   "source": [
    "for i in range (5,0,-1):\n",
    "    for j in range(1,i+1):\n",
    "        print(i,end=' ')\n",
    "    print()"
   ]
  },
  {
   "cell_type": "code",
   "execution_count": 30,
   "id": "6fb418df",
   "metadata": {},
   "outputs": [
    {
     "name": "stdout",
     "output_type": "stream",
     "text": [
      "1 \n",
      "2 2 \n",
      "3 3 3 \n",
      "4 4 4 4 \n",
      "5 5 5 5 5 \n"
     ]
    }
   ],
   "source": [
    "for i in range (0,5):\n",
    "    for j in range(0,i+1):\n",
    "        print(i+1,end=' ')\n",
    "    print()"
   ]
  },
  {
   "cell_type": "code",
   "execution_count": 31,
   "id": "e4f831e4",
   "metadata": {},
   "outputs": [
    {
     "name": "stdout",
     "output_type": "stream",
     "text": [
      "\n",
      "1 \n",
      "1 2 \n",
      "1 2 3 \n",
      "1 2 3 4 \n",
      "1 2 3 4 5 \n"
     ]
    }
   ],
   "source": [
    "for i in range (0,6):\n",
    "    for j in range(1,i+1):\n",
    "        print(j,end=' ')\n",
    "    print()"
   ]
  },
  {
   "cell_type": "code",
   "execution_count": 32,
   "id": "52940da8",
   "metadata": {},
   "outputs": [
    {
     "name": "stdout",
     "output_type": "stream",
     "text": [
      "1 2 3 4 5 \n",
      "1 2 3 4 \n",
      "1 2 3 \n",
      "1 2 \n",
      "1 \n"
     ]
    }
   ],
   "source": [
    "for i in range (5,0,-1):\n",
    "    for j in range(1,i+1):\n",
    "        print(j,end=' ')\n",
    "    print()"
   ]
  },
  {
   "cell_type": "code",
   "execution_count": 34,
   "id": "15f10b6b",
   "metadata": {},
   "outputs": [
    {
     "name": "stdout",
     "output_type": "stream",
     "text": [
      "5 \n",
      "4 4 \n",
      "3 3 3 \n",
      "2 2 2 2 \n",
      "1 1 1 1 1 \n"
     ]
    }
   ],
   "source": [
    "for i in range (5,0,-1):\n",
    "    for j in range(i+1,7):\n",
    "        print(i,end=' ')\n",
    "    print()"
   ]
  },
  {
   "cell_type": "code",
   "execution_count": 35,
   "id": "03755bde",
   "metadata": {},
   "outputs": [],
   "source": [
    "#22/6/23\n",
    "\n",
    "# if a=50 and b=60 want to interchange number of a and b in python without using 3rd variable\n",
    "# a=50\n",
    "# b=60\n",
    "\n",
    "# want : \n",
    "# a=60\n",
    "# b=50"
   ]
  },
  {
   "cell_type": "code",
   "execution_count": 37,
   "id": "b5bf0512",
   "metadata": {},
   "outputs": [
    {
     "name": "stdout",
     "output_type": "stream",
     "text": [
      "num1 :  60  and num2 :  50\n"
     ]
    }
   ],
   "source": [
    "num1=50\n",
    "num2=60\n",
    "\n",
    "num1, num2 = num2,num1\n",
    "print(\"num1 : \", num1, \" and num2 : \", num2)"
   ]
  },
  {
   "cell_type": "code",
   "execution_count": 38,
   "id": "271a7c8b",
   "metadata": {},
   "outputs": [
    {
     "name": "stdout",
     "output_type": "stream",
     "text": [
      "enter value of a :52\n",
      "enter value of b :63\n",
      "a = 63\n",
      "b = 52\n"
     ]
    }
   ],
   "source": [
    "a=int(input(\"enter value of a :\"))\n",
    "b=int(input(\"enter value of b :\"))\n",
    "a,b=b,a\n",
    "print(\"a =\",a)\n",
    "print(\"b =\",b)\n"
   ]
  },
  {
   "cell_type": "code",
   "execution_count": 39,
   "id": "f40c8c78",
   "metadata": {},
   "outputs": [
    {
     "name": "stdout",
     "output_type": "stream",
     "text": [
      "enter value of a :20\n",
      "enter value of b :1520\n",
      "a = 1520\n",
      "b = 20\n"
     ]
    }
   ],
   "source": [
    "a=int(input(\"enter value of a :\"))\n",
    "b=int(input(\"enter value of b :\"))\n",
    "b=a+b\n",
    "a=b-a\n",
    "b=b-a\n",
    "print(\"a =\",a)\n",
    "print(\"b =\",b)"
   ]
  },
  {
   "cell_type": "code",
   "execution_count": 40,
   "id": "72953d04",
   "metadata": {},
   "outputs": [],
   "source": [
    "# WAP to extract each digit from an integer in reverse order\n",
    "\n",
    "# ex: if the given int is 7536 the output shall be \"6 3 5 7\" with space seprating th digits."
   ]
  },
  {
   "cell_type": "code",
   "execution_count": 41,
   "id": "3652a837",
   "metadata": {},
   "outputs": [
    {
     "name": "stdout",
     "output_type": "stream",
     "text": [
      "number is : 7536\n",
      "6 3 5 7 "
     ]
    }
   ],
   "source": [
    "num = 7536\n",
    "print(\"number is :\", num)\n",
    "while num > 0:\n",
    "    revnum = num % 10\n",
    "    num = num // 10\n",
    "    print(revnum, end=\" \")\n",
    "\n",
    "    "
   ]
  },
  {
   "cell_type": "code",
   "execution_count": 42,
   "id": "3f0277ea",
   "metadata": {},
   "outputs": [
    {
     "name": "stdout",
     "output_type": "stream",
     "text": [
      "enter the no :5555266\n",
      "6 6 2 5 5 5 5 "
     ]
    }
   ],
   "source": [
    "num=int(input(\"enter the no :\"))\n",
    "revnum=0\n",
    "rem=0\n",
    "while num > 0:\n",
    "    revnum = num % 10\n",
    "    num = num // 10\n",
    "    print(revnum, end=\" \")"
   ]
  },
  {
   "cell_type": "code",
   "execution_count": 43,
   "id": "d6faec8b",
   "metadata": {},
   "outputs": [],
   "source": [
    "23/6/23\n",
    "\n",
    "#function\n",
    "\n",
    "def addition(x,y):\n",
    "    return x + y\n",
    "res = addition(25,25)"
   ]
  },
  {
   "cell_type": "code",
   "execution_count": 44,
   "id": "b4ab96b3",
   "metadata": {},
   "outputs": [
    {
     "name": "stdout",
     "output_type": "stream",
     "text": [
      "50\n"
     ]
    }
   ],
   "source": [
    "print(res)"
   ]
  },
  {
   "cell_type": "code",
   "execution_count": 45,
   "id": "a3346325",
   "metadata": {},
   "outputs": [
    {
     "ename": "TypeError",
     "evalue": "can only concatenate str (not \"int\") to str",
     "output_type": "error",
     "traceback": [
      "\u001b[1;31m---------------------------------------------------------------------------\u001b[0m",
      "\u001b[1;31mTypeError\u001b[0m                                 Traceback (most recent call last)",
      "Cell \u001b[1;32mIn[45], line 3\u001b[0m\n\u001b[0;32m      1\u001b[0m \u001b[38;5;28;01mdef\u001b[39;00m \u001b[38;5;21mdisplaydata\u001b[39m(name, age):\n\u001b[0;32m      2\u001b[0m     \u001b[38;5;28;01mreturn\u001b[39;00m name\u001b[38;5;241m+\u001b[39m\u001b[38;5;124m\"\u001b[39m\u001b[38;5;124m \u001b[39m\u001b[38;5;124m\"\u001b[39m\u001b[38;5;241m+\u001b[39mage\n\u001b[1;32m----> 3\u001b[0m res \u001b[38;5;241m=\u001b[39m \u001b[43mdisplaydata\u001b[49m\u001b[43m(\u001b[49m\u001b[38;5;124;43m\"\u001b[39;49m\u001b[38;5;124;43mMaitri\u001b[39;49m\u001b[38;5;124;43m\"\u001b[39;49m\u001b[43m,\u001b[49m\u001b[38;5;241;43m25\u001b[39;49m\u001b[43m)\u001b[49m\n",
      "Cell \u001b[1;32mIn[45], line 2\u001b[0m, in \u001b[0;36mdisplaydata\u001b[1;34m(name, age)\u001b[0m\n\u001b[0;32m      1\u001b[0m \u001b[38;5;28;01mdef\u001b[39;00m \u001b[38;5;21mdisplaydata\u001b[39m(name, age):\n\u001b[1;32m----> 2\u001b[0m     \u001b[38;5;28;01mreturn\u001b[39;00m \u001b[43mname\u001b[49m\u001b[38;5;241;43m+\u001b[39;49m\u001b[38;5;124;43m\"\u001b[39;49m\u001b[38;5;124;43m \u001b[39;49m\u001b[38;5;124;43m\"\u001b[39;49m\u001b[38;5;241;43m+\u001b[39;49m\u001b[43mage\u001b[49m\n",
      "\u001b[1;31mTypeError\u001b[0m: can only concatenate str (not \"int\") to str"
     ]
    }
   ],
   "source": [
    "def displaydata(name, age):\n",
    "    return name+\" \"+age\n",
    "res = displaydata(\"Maitri\",25)"
   ]
  },
  {
   "cell_type": "code",
   "execution_count": 1,
   "id": "ff7a0ab9",
   "metadata": {},
   "outputs": [],
   "source": [
    "def displaydata(name, age):\n",
    "    return name+\" \"+age\n",
    "res = displaydata(\"Maitri\",'25')"
   ]
  },
  {
   "cell_type": "code",
   "execution_count": 2,
   "id": "6be389dd",
   "metadata": {},
   "outputs": [
    {
     "name": "stdout",
     "output_type": "stream",
     "text": [
      "Maitri 25\n"
     ]
    }
   ],
   "source": [
    "print(res)"
   ]
  },
  {
   "cell_type": "code",
   "execution_count": 3,
   "id": "fafb2187",
   "metadata": {},
   "outputs": [
    {
     "name": "stdout",
     "output_type": "stream",
     "text": [
      "Welcome Pooja your age is 21 years\n"
     ]
    }
   ],
   "source": [
    "def displaydata(name, age):\n",
    "    print(f'Welcome {name} your age is {age} years')\n",
    "displaydata(\"Pooja\",21)"
   ]
  },
  {
   "cell_type": "code",
   "execution_count": 4,
   "id": "f4d9764b",
   "metadata": {},
   "outputs": [],
   "source": [
    "#lambda function : Anonymous function"
   ]
  },
  {
   "cell_type": "code",
   "execution_count": 5,
   "id": "28950594",
   "metadata": {},
   "outputs": [],
   "source": [
    "res = lambda x , y : x + y"
   ]
  },
  {
   "cell_type": "code",
   "execution_count": 6,
   "id": "0f1c2ed7",
   "metadata": {},
   "outputs": [
    {
     "name": "stdout",
     "output_type": "stream",
     "text": [
      "40\n"
     ]
    }
   ],
   "source": [
    "print(res(25,15))"
   ]
  },
  {
   "cell_type": "code",
   "execution_count": 7,
   "id": "e011d923",
   "metadata": {},
   "outputs": [],
   "source": [
    "res = lambda x,y : (x>y)"
   ]
  },
  {
   "cell_type": "code",
   "execution_count": 8,
   "id": "ecd8052e",
   "metadata": {},
   "outputs": [
    {
     "name": "stdout",
     "output_type": "stream",
     "text": [
      "False\n"
     ]
    }
   ],
   "source": [
    "print(res(25,35))"
   ]
  },
  {
   "cell_type": "code",
   "execution_count": 9,
   "id": "1ae79f0a",
   "metadata": {},
   "outputs": [],
   "source": [
    "#function keyword\n",
    "\n",
    "# map\n",
    "# filter\n",
    "# reduce"
   ]
  },
  {
   "cell_type": "code",
   "execution_count": 10,
   "id": "d1a16388",
   "metadata": {},
   "outputs": [],
   "source": [
    "ls = [1,2,3,4,5,6,7,8,9,10]"
   ]
  },
  {
   "cell_type": "code",
   "execution_count": 11,
   "id": "2b23e643",
   "metadata": {},
   "outputs": [
    {
     "name": "stdout",
     "output_type": "stream",
     "text": [
      "1\n",
      "2\n",
      "3\n",
      "4\n",
      "5\n",
      "6\n",
      "7\n",
      "8\n",
      "9\n",
      "10\n"
     ]
    }
   ],
   "source": [
    "for i in ls:\n",
    "    print(i)"
   ]
  },
  {
   "cell_type": "code",
   "execution_count": 12,
   "id": "35577cd4",
   "metadata": {},
   "outputs": [
    {
     "name": "stdout",
     "output_type": "stream",
     "text": [
      "2\n",
      "4\n",
      "6\n",
      "8\n",
      "10\n"
     ]
    }
   ],
   "source": [
    "for i in ls:\n",
    "    if (i%2==0):\n",
    "        print(i)"
   ]
  },
  {
   "cell_type": "code",
   "execution_count": 13,
   "id": "e815aca8",
   "metadata": {},
   "outputs": [
    {
     "name": "stdout",
     "output_type": "stream",
     "text": [
      "1\n",
      "3\n",
      "5\n",
      "7\n",
      "9\n"
     ]
    }
   ],
   "source": [
    "for i in ls:\n",
    "    if (i%2==1):\n",
    "        print(i)"
   ]
  },
  {
   "cell_type": "code",
   "execution_count": 14,
   "id": "afc19f90",
   "metadata": {},
   "outputs": [
    {
     "data": {
      "text/plain": [
       "[1, 2, 3, 4, 5, 6, 7, 8, 9, 10]"
      ]
     },
     "execution_count": 14,
     "metadata": {},
     "output_type": "execute_result"
    }
   ],
   "source": [
    "ls"
   ]
  },
  {
   "cell_type": "code",
   "execution_count": 15,
   "id": "4cc59569",
   "metadata": {},
   "outputs": [
    {
     "data": {
      "text/plain": [
       "[1, 3, 5, 7, 9]"
      ]
     },
     "execution_count": 15,
     "metadata": {},
     "output_type": "execute_result"
    }
   ],
   "source": [
    "ls[0: :2]"
   ]
  },
  {
   "cell_type": "code",
   "execution_count": 16,
   "id": "fbc81abc",
   "metadata": {},
   "outputs": [],
   "source": [
    "#List Comprehension"
   ]
  },
  {
   "cell_type": "code",
   "execution_count": 17,
   "id": "02bb0b24",
   "metadata": {},
   "outputs": [],
   "source": [
    "ls = [i for i in ls]"
   ]
  },
  {
   "cell_type": "code",
   "execution_count": 18,
   "id": "9cee6bd7",
   "metadata": {},
   "outputs": [
    {
     "name": "stdout",
     "output_type": "stream",
     "text": [
      "[1, 2, 3, 4, 5, 6, 7, 8, 9, 10]\n"
     ]
    }
   ],
   "source": [
    "print (ls)"
   ]
  },
  {
   "cell_type": "code",
   "execution_count": 19,
   "id": "08a109d8",
   "metadata": {},
   "outputs": [],
   "source": [
    "ls = [i for i in ls if i%2==0]"
   ]
  },
  {
   "cell_type": "code",
   "execution_count": 20,
   "id": "f1e1ca12",
   "metadata": {},
   "outputs": [
    {
     "name": "stdout",
     "output_type": "stream",
     "text": [
      "[2, 4, 6, 8, 10]\n"
     ]
    }
   ],
   "source": [
    "print(ls)"
   ]
  },
  {
   "cell_type": "code",
   "execution_count": 21,
   "id": "71336278",
   "metadata": {},
   "outputs": [],
   "source": [
    "ls = [i for i in ls if i%2==1]"
   ]
  },
  {
   "cell_type": "code",
   "execution_count": 22,
   "id": "f033d63c",
   "metadata": {},
   "outputs": [
    {
     "name": "stdout",
     "output_type": "stream",
     "text": [
      "[]\n"
     ]
    }
   ],
   "source": [
    "print(ls)"
   ]
  },
  {
   "cell_type": "code",
   "execution_count": 23,
   "id": "1d01c6eb",
   "metadata": {},
   "outputs": [],
   "source": [
    "ls = [1,2,8,2,82,4,64,5,456,64,54,4,654,44,54,4,5]"
   ]
  },
  {
   "cell_type": "code",
   "execution_count": 24,
   "id": "349133e4",
   "metadata": {},
   "outputs": [],
   "source": [
    "res = [i*2 for i in ls]"
   ]
  },
  {
   "cell_type": "code",
   "execution_count": 25,
   "id": "3cb2ea66",
   "metadata": {},
   "outputs": [
    {
     "name": "stdout",
     "output_type": "stream",
     "text": [
      "[2, 4, 16, 4, 164, 8, 128, 10, 912, 128, 108, 8, 1308, 88, 108, 8, 10]\n"
     ]
    }
   ],
   "source": [
    "print(res)"
   ]
  },
  {
   "cell_type": "code",
   "execution_count": 26,
   "id": "43498861",
   "metadata": {},
   "outputs": [],
   "source": [
    "res = [i for i in ls if i%2==1]"
   ]
  },
  {
   "cell_type": "code",
   "execution_count": 27,
   "id": "fc4a42e5",
   "metadata": {},
   "outputs": [
    {
     "name": "stdout",
     "output_type": "stream",
     "text": [
      "[1, 5, 5]\n"
     ]
    }
   ],
   "source": [
    "print(res)"
   ]
  },
  {
   "cell_type": "code",
   "execution_count": 28,
   "id": "ff292738",
   "metadata": {},
   "outputs": [],
   "source": [
    "tup = (1,2,34,5,6,7,8,9)"
   ]
  },
  {
   "cell_type": "code",
   "execution_count": 29,
   "id": "09af170e",
   "metadata": {},
   "outputs": [],
   "source": [
    "res = [i for i in tup]"
   ]
  },
  {
   "cell_type": "code",
   "execution_count": 30,
   "id": "3b7f0874",
   "metadata": {},
   "outputs": [
    {
     "name": "stdout",
     "output_type": "stream",
     "text": [
      "[1, 2, 34, 5, 6, 7, 8, 9]\n"
     ]
    }
   ],
   "source": [
    "print(res)"
   ]
  },
  {
   "cell_type": "code",
   "execution_count": 31,
   "id": "3aa1a284",
   "metadata": {},
   "outputs": [],
   "source": [
    "res = [i*2 for i in tup]"
   ]
  },
  {
   "cell_type": "code",
   "execution_count": 32,
   "id": "6d297b7f",
   "metadata": {},
   "outputs": [
    {
     "name": "stdout",
     "output_type": "stream",
     "text": [
      "[2, 4, 68, 10, 12, 14, 16, 18]\n"
     ]
    }
   ],
   "source": [
    "print(res)"
   ]
  },
  {
   "cell_type": "code",
   "execution_count": 33,
   "id": "5f558b94",
   "metadata": {},
   "outputs": [],
   "source": [
    "res = [i*2 for i in tup if i%2==0]"
   ]
  },
  {
   "cell_type": "code",
   "execution_count": 34,
   "id": "8a871bb0",
   "metadata": {},
   "outputs": [
    {
     "name": "stdout",
     "output_type": "stream",
     "text": [
      "[4, 68, 12, 16]\n"
     ]
    }
   ],
   "source": [
    "print(res)"
   ]
  },
  {
   "cell_type": "code",
   "execution_count": 35,
   "id": "b53a9ce8",
   "metadata": {},
   "outputs": [],
   "source": [
    "st = (1,2,3,4,5,6,7,8,9)"
   ]
  },
  {
   "cell_type": "code",
   "execution_count": 36,
   "id": "521eeda3",
   "metadata": {},
   "outputs": [],
   "source": [
    "res = [i for i in st]"
   ]
  },
  {
   "cell_type": "code",
   "execution_count": 37,
   "id": "3f333f4c",
   "metadata": {},
   "outputs": [
    {
     "name": "stdout",
     "output_type": "stream",
     "text": [
      "[1, 2, 3, 4, 5, 6, 7, 8, 9]\n"
     ]
    }
   ],
   "source": [
    "print(res)"
   ]
  },
  {
   "cell_type": "code",
   "execution_count": 38,
   "id": "c526d7d6",
   "metadata": {},
   "outputs": [],
   "source": [
    "st = (1,2,3,4,5,6,7,8,9)"
   ]
  },
  {
   "cell_type": "code",
   "execution_count": 39,
   "id": "b3306dde",
   "metadata": {},
   "outputs": [
    {
     "name": "stdout",
     "output_type": "stream",
     "text": [
      "[1, 2, 3, 4, 5, 6, 7, 8, 9]\n"
     ]
    }
   ],
   "source": [
    "print(res)"
   ]
  },
  {
   "cell_type": "code",
   "execution_count": 40,
   "id": "0c242013",
   "metadata": {},
   "outputs": [],
   "source": [
    "res = [i*2 for i in st if i%2==0]"
   ]
  },
  {
   "cell_type": "code",
   "execution_count": 41,
   "id": "7cfb976b",
   "metadata": {},
   "outputs": [
    {
     "name": "stdout",
     "output_type": "stream",
     "text": [
      "[4, 8, 12, 16]\n"
     ]
    }
   ],
   "source": [
    "print(res)"
   ]
  },
  {
   "cell_type": "code",
   "execution_count": 2,
   "id": "f6e04a4b",
   "metadata": {},
   "outputs": [],
   "source": [
    "#27/6/23"
   ]
  },
  {
   "cell_type": "code",
   "execution_count": 3,
   "id": "41ddc273",
   "metadata": {},
   "outputs": [
    {
     "name": "stdout",
     "output_type": "stream",
     "text": [
      "Addition of two numbers adre : 50\n"
     ]
    }
   ],
   "source": [
    "def addition(x,y):\n",
    "    return x+y\n",
    "res = addition(25,25)\n",
    "print(f'Addition of two numbers are: {res}')"
   ]
  },
  {
   "cell_type": "code",
   "execution_count": 5,
   "id": "e71b8d7f",
   "metadata": {},
   "outputs": [
    {
     "name": "stdout",
     "output_type": "stream",
     "text": [
      "Addition of two numbers adre : 25\n"
     ]
    }
   ],
   "source": [
    "def addition(x=0,y=0,z=0):\n",
    "    return x+y+z\n",
    "res = addition(25)\n",
    "print(f'Addition of two numbers are : {res}')"
   ]
  },
  {
   "cell_type": "code",
   "execution_count": 6,
   "id": "3c91060a",
   "metadata": {},
   "outputs": [
    {
     "name": "stdout",
     "output_type": "stream",
     "text": [
      "Addition of two numbers adre : 75\n"
     ]
    }
   ],
   "source": [
    "def addition(x=0,y=0,z=0):\n",
    "    return x+y+z\n",
    "res = addition(25,25,25)\n",
    "print(f'Addition of two numbers are : {res}')"
   ]
  },
  {
   "cell_type": "code",
   "execution_count": 10,
   "id": "e6ed81c1",
   "metadata": {},
   "outputs": [],
   "source": [
    "#args\n",
    "#kwargs"
   ]
  },
  {
   "cell_type": "code",
   "execution_count": 14,
   "id": "a9dc2a4c",
   "metadata": {},
   "outputs": [
    {
     "name": "stdout",
     "output_type": "stream",
     "text": [
      "Addition of two numbers adre : 25\n"
     ]
    }
   ],
   "source": [
    "def addition(*args):\n",
    "    return sum(args)\n",
    "res = addition(25)\n",
    "print(f'Addition of two numbers are : {res}')"
   ]
  },
  {
   "cell_type": "code",
   "execution_count": 15,
   "id": "24935d4c",
   "metadata": {},
   "outputs": [
    {
     "name": "stdout",
     "output_type": "stream",
     "text": [
      "Addition of two numbers adre : 75\n"
     ]
    }
   ],
   "source": [
    "def addition(*args):\n",
    "    return sum(args)\n",
    "res = addition(25,25,25)\n",
    "print(f'Addition of two numbers are : {res}')"
   ]
  },
  {
   "cell_type": "code",
   "execution_count": 16,
   "id": "ecceb888",
   "metadata": {},
   "outputs": [],
   "source": [
    "ls = [5,67,8,13,5,41,5,2]"
   ]
  },
  {
   "cell_type": "code",
   "execution_count": 17,
   "id": "51f9b481",
   "metadata": {},
   "outputs": [
    {
     "data": {
      "text/plain": [
       "[5, 67, 8, 13, 5, 41, 5, 2]"
      ]
     },
     "execution_count": 17,
     "metadata": {},
     "output_type": "execute_result"
    }
   ],
   "source": [
    "def addition(data):\n",
    "    return data\n",
    "addition(ls)"
   ]
  },
  {
   "cell_type": "code",
   "execution_count": 18,
   "id": "630d0ebc",
   "metadata": {},
   "outputs": [
    {
     "data": {
      "text/plain": [
       "146"
      ]
     },
     "execution_count": 18,
     "metadata": {},
     "output_type": "execute_result"
    }
   ],
   "source": [
    "def addition(data):\n",
    "    return sum(data)\n",
    "addition(ls)"
   ]
  },
  {
   "cell_type": "code",
   "execution_count": 20,
   "id": "556f0300",
   "metadata": {},
   "outputs": [
    {
     "name": "stdout",
     "output_type": "stream",
     "text": [
      "5\n",
      "67\n",
      "8\n",
      "13\n",
      "5\n",
      "41\n",
      "5\n",
      "2\n"
     ]
    }
   ],
   "source": [
    "def addition(data):\n",
    "    for i in data:\n",
    "        print(i)\n",
    "addition(ls)"
   ]
  },
  {
   "cell_type": "code",
   "execution_count": 22,
   "id": "b319d1cb",
   "metadata": {},
   "outputs": [
    {
     "name": "stdout",
     "output_type": "stream",
     "text": [
      "5\n",
      "67\n",
      "13\n",
      "5\n",
      "41\n",
      "5\n"
     ]
    }
   ],
   "source": [
    "def addition(data):\n",
    "    for i in data:\n",
    "        if(i%2==1):\n",
    "            print(i)\n",
    "addition(ls)"
   ]
  },
  {
   "cell_type": "code",
   "execution_count": 23,
   "id": "e1dd66a1",
   "metadata": {},
   "outputs": [
    {
     "name": "stdout",
     "output_type": "stream",
     "text": [
      "8\n",
      "2\n"
     ]
    }
   ],
   "source": [
    "def addition(data):\n",
    "    for i in data:\n",
    "        if(i%2==0):\n",
    "            print(i)\n",
    "addition(ls)"
   ]
  },
  {
   "cell_type": "code",
   "execution_count": 26,
   "id": "fa582acb",
   "metadata": {},
   "outputs": [
    {
     "name": "stdout",
     "output_type": "stream",
     "text": [
      "100\n"
     ]
    }
   ],
   "source": [
    "res = lambda x,y : x+y\n",
    "print(res(50,50))"
   ]
  },
  {
   "cell_type": "code",
   "execution_count": 27,
   "id": "5a7b68e5",
   "metadata": {},
   "outputs": [
    {
     "name": "stdout",
     "output_type": "stream",
     "text": [
      "75\n"
     ]
    }
   ],
   "source": [
    "res = lambda x,y,z : x+y+z\n",
    "print(res(25,25,25))"
   ]
  },
  {
   "cell_type": "code",
   "execution_count": 38,
   "id": "d079a7d6",
   "metadata": {},
   "outputs": [
    {
     "name": "stdout",
     "output_type": "stream",
     "text": [
      "addition of numbers :100\n"
     ]
    }
   ],
   "source": [
    "res = lambda x=0,y=0,z=0 : x+y+z\n",
    "print(f'addition of numbers :{res(50,50)}')"
   ]
  },
  {
   "cell_type": "code",
   "execution_count": 41,
   "id": "055fe50c",
   "metadata": {},
   "outputs": [
    {
     "name": "stdout",
     "output_type": "stream",
     "text": [
      "addition of numbers : 100\n"
     ]
    }
   ],
   "source": [
    "res = lambda *args: sum(args)\n",
    "print(f'addition of numbers : {res(50,50)}')"
   ]
  },
  {
   "cell_type": "code",
   "execution_count": null,
   "id": "1b6a02a4",
   "metadata": {},
   "outputs": [],
   "source": [
    "ls = [2,64,664,6,5,9,6]"
   ]
  },
  {
   "cell_type": "code",
   "execution_count": 44,
   "id": "62a8be3f",
   "metadata": {},
   "outputs": [
    {
     "name": "stdout",
     "output_type": "stream",
     "text": [
      "[5, 67, 8, 13, 5, 41, 5, 2]\n"
     ]
    }
   ],
   "source": [
    "res = lambda data : [i for i in data]\n",
    "print(res(ls))"
   ]
  },
  {
   "cell_type": "code",
   "execution_count": 46,
   "id": "3e801c3f",
   "metadata": {},
   "outputs": [
    {
     "name": "stdout",
     "output_type": "stream",
     "text": [
      "[5, 67, 13, 5, 41, 5]\n"
     ]
    }
   ],
   "source": [
    "res = lambda data : [i for i in data if i%2==1]\n",
    "print(res(ls))"
   ]
  },
  {
   "cell_type": "code",
   "execution_count": 47,
   "id": "1b222915",
   "metadata": {},
   "outputs": [
    {
     "name": "stdout",
     "output_type": "stream",
     "text": [
      "[8, 2]\n"
     ]
    }
   ],
   "source": [
    "res = lambda data : [i for i in data if i%2==0]\n",
    "print(res(ls))"
   ]
  },
  {
   "cell_type": "code",
   "execution_count": 59,
   "id": "5094beeb",
   "metadata": {},
   "outputs": [],
   "source": [
    "res = list(map(lambda x: x*2 ,ls))"
   ]
  },
  {
   "cell_type": "code",
   "execution_count": 56,
   "id": "ca8a22b9",
   "metadata": {},
   "outputs": [
    {
     "name": "stdout",
     "output_type": "stream",
     "text": [
      "[10, 134, 16, 26, 10, 82, 10, 4]\n"
     ]
    }
   ],
   "source": [
    "print(res)"
   ]
  },
  {
   "cell_type": "code",
   "execution_count": 1,
   "id": "bc667642",
   "metadata": {},
   "outputs": [],
   "source": [
    "ls = [50,5,65,95,95,9,75]"
   ]
  },
  {
   "cell_type": "code",
   "execution_count": 2,
   "id": "ab5630f9",
   "metadata": {},
   "outputs": [
    {
     "data": {
      "text/plain": [
       "[50, 5, 65, 95, 95, 9, 75]"
      ]
     },
     "execution_count": 2,
     "metadata": {},
     "output_type": "execute_result"
    }
   ],
   "source": [
    "ls"
   ]
  },
  {
   "cell_type": "code",
   "execution_count": 3,
   "id": "ddc7fea5",
   "metadata": {},
   "outputs": [],
   "source": [
    "st = ''\n",
    "res = map(st,ls)"
   ]
  },
  {
   "cell_type": "code",
   "execution_count": 4,
   "id": "9746b38e",
   "metadata": {},
   "outputs": [
    {
     "ename": "TypeError",
     "evalue": "'str' object is not callable",
     "output_type": "error",
     "traceback": [
      "\u001b[1;31m---------------------------------------------------------------------------\u001b[0m",
      "\u001b[1;31mTypeError\u001b[0m                                 Traceback (most recent call last)",
      "Cell \u001b[1;32mIn[4], line 1\u001b[0m\n\u001b[1;32m----> 1\u001b[0m \u001b[38;5;28;43mlist\u001b[39;49m\u001b[43m(\u001b[49m\u001b[43mres\u001b[49m\u001b[43m)\u001b[49m\n",
      "\u001b[1;31mTypeError\u001b[0m: 'str' object is not callable"
     ]
    }
   ],
   "source": [
    "list(res)"
   ]
  },
  {
   "cell_type": "code",
   "execution_count": 5,
   "id": "2b2cc5fe",
   "metadata": {},
   "outputs": [
    {
     "name": "stdout",
     "output_type": "stream",
     "text": [
      "<map object at 0x0000021AE10D5330>\n"
     ]
    }
   ],
   "source": [
    "print(res)"
   ]
  },
  {
   "cell_type": "code",
   "execution_count": 6,
   "id": "748ddc51",
   "metadata": {},
   "outputs": [],
   "source": [
    "st = []\n",
    "res = map(st,ls)"
   ]
  },
  {
   "cell_type": "code",
   "execution_count": 7,
   "id": "acef6414",
   "metadata": {},
   "outputs": [
    {
     "ename": "TypeError",
     "evalue": "'list' object is not callable",
     "output_type": "error",
     "traceback": [
      "\u001b[1;31m---------------------------------------------------------------------------\u001b[0m",
      "\u001b[1;31mTypeError\u001b[0m                                 Traceback (most recent call last)",
      "Cell \u001b[1;32mIn[7], line 1\u001b[0m\n\u001b[1;32m----> 1\u001b[0m \u001b[38;5;28;01mfor\u001b[39;00m i \u001b[38;5;129;01min\u001b[39;00m res:\n\u001b[0;32m      2\u001b[0m     \u001b[38;5;28mprint\u001b[39m(i)\n",
      "\u001b[1;31mTypeError\u001b[0m: 'list' object is not callable"
     ]
    }
   ],
   "source": [
    "for i in res:\n",
    "    print(i)"
   ]
  },
  {
   "cell_type": "code",
   "execution_count": 8,
   "id": "25348730",
   "metadata": {},
   "outputs": [
    {
     "data": {
      "text/plain": [
       "[50, 5, 65, 95, 95, 9, 75]"
      ]
     },
     "execution_count": 8,
     "metadata": {},
     "output_type": "execute_result"
    }
   ],
   "source": [
    "ls"
   ]
  },
  {
   "cell_type": "code",
   "execution_count": 9,
   "id": "fffe1790",
   "metadata": {},
   "outputs": [
    {
     "name": "stdout",
     "output_type": "stream",
     "text": [
      "2500\n",
      "25\n",
      "4225\n",
      "9025\n",
      "9025\n",
      "81\n",
      "5625\n"
     ]
    }
   ],
   "source": [
    "for i in ls:\n",
    "    print(i**2)"
   ]
  },
  {
   "cell_type": "code",
   "execution_count": 11,
   "id": "fc763ebf",
   "metadata": {},
   "outputs": [],
   "source": [
    "res = list(map(lambda x : x *2,ls))"
   ]
  },
  {
   "cell_type": "code",
   "execution_count": 12,
   "id": "62e4f0f3",
   "metadata": {},
   "outputs": [
    {
     "name": "stdout",
     "output_type": "stream",
     "text": [
      "[100, 10, 130, 190, 190, 18, 150]\n"
     ]
    }
   ],
   "source": [
    "print(res)"
   ]
  },
  {
   "cell_type": "code",
   "execution_count": 25,
   "id": "33f5e45d",
   "metadata": {},
   "outputs": [
    {
     "name": "stdout",
     "output_type": "stream",
     "text": [
      "[0, 0]\n",
      "[1, 1]\n",
      "[4, 4]\n",
      "[9, 9]\n",
      "[16, 16]\n"
     ]
    }
   ],
   "source": [
    "def mul(x):\n",
    "    return x*x\n",
    "\n",
    "def devide(x):\n",
    "    return x**2\n",
    "\n",
    "res = [mul, devide]\n",
    "\n",
    "for i in range(5):\n",
    "    val = list(map(lambda x : x(i), res))\n",
    "    print(val)\n",
    "    "
   ]
  },
  {
   "cell_type": "code",
   "execution_count": 17,
   "id": "5307dfed",
   "metadata": {},
   "outputs": [],
   "source": [
    "#4/7/23\n",
    "#Exception handling "
   ]
  },
  {
   "cell_type": "code",
   "execution_count": 19,
   "id": "c5a64ec1",
   "metadata": {},
   "outputs": [
    {
     "name": "stdout",
     "output_type": "stream",
     "text": [
      "Enter the first value : 58\n",
      "Enter the second value : 0\n"
     ]
    },
    {
     "ename": "ZeroDivisionError",
     "evalue": "division by zero",
     "output_type": "error",
     "traceback": [
      "\u001b[1;31m---------------------------------------------------------------------------\u001b[0m",
      "\u001b[1;31mZeroDivisionError\u001b[0m                         Traceback (most recent call last)",
      "Cell \u001b[1;32mIn[19], line 3\u001b[0m\n\u001b[0;32m      1\u001b[0m x \u001b[38;5;241m=\u001b[39m \u001b[38;5;28mint\u001b[39m(\u001b[38;5;28minput\u001b[39m(\u001b[38;5;124m\"\u001b[39m\u001b[38;5;124mEnter the first value : \u001b[39m\u001b[38;5;124m\"\u001b[39m))\n\u001b[0;32m      2\u001b[0m y \u001b[38;5;241m=\u001b[39m \u001b[38;5;28mint\u001b[39m(\u001b[38;5;28minput\u001b[39m(\u001b[38;5;124m\"\u001b[39m\u001b[38;5;124mEnter the second value : \u001b[39m\u001b[38;5;124m\"\u001b[39m))\n\u001b[1;32m----> 3\u001b[0m res \u001b[38;5;241m=\u001b[39m \u001b[43mx\u001b[49m\u001b[38;5;241;43m/\u001b[39;49m\u001b[43my\u001b[49m\n\u001b[0;32m      4\u001b[0m \u001b[38;5;28mprint\u001b[39m(res)\n",
      "\u001b[1;31mZeroDivisionError\u001b[0m: division by zero"
     ]
    }
   ],
   "source": [
    "x = int(input(\"Enter the first value : \"))\n",
    "y = int(input(\"Enter the second value : \"))\n",
    "res = x/y\n",
    "print(res)"
   ]
  },
  {
   "cell_type": "code",
   "execution_count": 1,
   "id": "0ae70d35",
   "metadata": {},
   "outputs": [
    {
     "name": "stdout",
     "output_type": "stream",
     "text": [
      "Enter the first value : 5\n",
      "Enter the second value : 0\n"
     ]
    },
    {
     "ename": "ZeroDivisionError",
     "evalue": "division by zero",
     "output_type": "error",
     "traceback": [
      "\u001b[1;31m---------------------------------------------------------------------------\u001b[0m",
      "\u001b[1;31mZeroDivisionError\u001b[0m                         Traceback (most recent call last)",
      "Cell \u001b[1;32mIn[1], line 3\u001b[0m\n\u001b[0;32m      1\u001b[0m x \u001b[38;5;241m=\u001b[39m \u001b[38;5;28mint\u001b[39m(\u001b[38;5;28minput\u001b[39m(\u001b[38;5;124m\"\u001b[39m\u001b[38;5;124mEnter the first value : \u001b[39m\u001b[38;5;124m\"\u001b[39m))\n\u001b[0;32m      2\u001b[0m y \u001b[38;5;241m=\u001b[39m \u001b[38;5;28mint\u001b[39m(\u001b[38;5;28minput\u001b[39m(\u001b[38;5;124m\"\u001b[39m\u001b[38;5;124mEnter the second value : \u001b[39m\u001b[38;5;124m\"\u001b[39m))\n\u001b[1;32m----> 3\u001b[0m res \u001b[38;5;241m=\u001b[39m \u001b[43mx\u001b[49m\u001b[38;5;241;43m/\u001b[39;49m\u001b[43my\u001b[49m\n\u001b[0;32m      4\u001b[0m \u001b[38;5;28mprint\u001b[39m(res)\n\u001b[0;32m      6\u001b[0m \u001b[38;5;28mprint\u001b[39m(\u001b[38;5;124m\"\u001b[39m\u001b[38;5;124mHello World\u001b[39m\u001b[38;5;124m\"\u001b[39m)\n",
      "\u001b[1;31mZeroDivisionError\u001b[0m: division by zero"
     ]
    }
   ],
   "source": [
    "x = int(input(\"Enter the first value : \"))\n",
    "y = int(input(\"Enter the second value : \"))\n",
    "res = x/y\n",
    "print(res)\n",
    "\n",
    "print(\"Hello World\") "
   ]
  },
  {
   "cell_type": "code",
   "execution_count": 5,
   "id": "5e228618",
   "metadata": {},
   "outputs": [],
   "source": [
    "ls = [1,2,3]"
   ]
  },
  {
   "cell_type": "code",
   "execution_count": 6,
   "id": "e75845b2",
   "metadata": {},
   "outputs": [
    {
     "ename": "IndexError",
     "evalue": "list index out of range",
     "output_type": "error",
     "traceback": [
      "\u001b[1;31m---------------------------------------------------------------------------\u001b[0m",
      "\u001b[1;31mIndexError\u001b[0m                                Traceback (most recent call last)",
      "Cell \u001b[1;32mIn[6], line 1\u001b[0m\n\u001b[1;32m----> 1\u001b[0m \u001b[43mls\u001b[49m\u001b[43m[\u001b[49m\u001b[38;5;241;43m3\u001b[39;49m\u001b[43m]\u001b[49m\n",
      "\u001b[1;31mIndexError\u001b[0m: list index out of range"
     ]
    }
   ],
   "source": [
    "ls[3]"
   ]
  },
  {
   "cell_type": "code",
   "execution_count": 7,
   "id": "96ff9065",
   "metadata": {},
   "outputs": [
    {
     "ename": "NameError",
     "evalue": "name 'd' is not defined",
     "output_type": "error",
     "traceback": [
      "\u001b[1;31m---------------------------------------------------------------------------\u001b[0m",
      "\u001b[1;31mNameError\u001b[0m                                 Traceback (most recent call last)",
      "Cell \u001b[1;32mIn[7], line 1\u001b[0m\n\u001b[1;32m----> 1\u001b[0m \u001b[38;5;28mprint\u001b[39m(\u001b[43md\u001b[49m)\n",
      "\u001b[1;31mNameError\u001b[0m: name 'd' is not defined"
     ]
    }
   ],
   "source": [
    "print(d)"
   ]
  },
  {
   "cell_type": "code",
   "execution_count": 10,
   "id": "b73e7031",
   "metadata": {},
   "outputs": [
    {
     "name": "stdout",
     "output_type": "stream",
     "text": [
      "Enter the first value : 5\n",
      "Enter the second value : 0\n",
      "division by zero\n",
      "hello world\n"
     ]
    }
   ],
   "source": [
    "x = int(input(\"Enter the first value : \"))\n",
    "y = int(input(\"Enter the second value : \"))\n",
    "try:\n",
    "    x/y\n",
    "except ZeroDivisionError as e:\n",
    "    print(e)\n",
    "    \n",
    "print(\"hello world\")"
   ]
  },
  {
   "cell_type": "code",
   "execution_count": 11,
   "id": "564b44a0",
   "metadata": {},
   "outputs": [
    {
     "name": "stdout",
     "output_type": "stream",
     "text": [
      "list index out of range\n"
     ]
    }
   ],
   "source": [
    "try:\n",
    "    ls[3]\n",
    "except IndexError as e:\n",
    "    print(e)\n",
    "else:\n",
    "    print(\"How it is ?\")\n",
    "finally:\n",
    "    (\"This always run\")"
   ]
  },
  {
   "cell_type": "code",
   "execution_count": 12,
   "id": "57060616",
   "metadata": {},
   "outputs": [
    {
     "name": "stdout",
     "output_type": "stream",
     "text": [
      "How it is ?\n"
     ]
    }
   ],
   "source": [
    "try:\n",
    "    ls[0]\n",
    "except IndexError as e:\n",
    "    print(e)\n",
    "else:\n",
    "    print(\"How it is ?\")\n",
    "finally:\n",
    "    (\"This always run\")"
   ]
  },
  {
   "cell_type": "code",
   "execution_count": 15,
   "id": "914f6a68",
   "metadata": {},
   "outputs": [
    {
     "name": "stdout",
     "output_type": "stream",
     "text": [
      "Enter the devidend :4\n",
      "Enter the divisor :5\n"
     ]
    },
    {
     "ename": "TypeError",
     "evalue": "unsupported operand type(s) for /: 'int' and 'str'",
     "output_type": "error",
     "traceback": [
      "\u001b[1;31m---------------------------------------------------------------------------\u001b[0m",
      "\u001b[1;31mTypeError\u001b[0m                                 Traceback (most recent call last)",
      "Cell \u001b[1;32mIn[15], line 12\u001b[0m\n\u001b[0;32m      9\u001b[0m     \u001b[38;5;28mprint\u001b[39m(\u001b[38;5;124m\"\u001b[39m\u001b[38;5;124mThe result of \u001b[39m\u001b[38;5;132;01m{}\u001b[39;00m\u001b[38;5;124m/\u001b[39m\u001b[38;5;132;01m{}\u001b[39;00m\u001b[38;5;124m\"\u001b[39m\u001b[38;5;241m.\u001b[39mformat(dividend,dividor,result))\n\u001b[0;32m     11\u001b[0m \u001b[38;5;28;01mif\u001b[39;00m \u001b[38;5;18m__name__\u001b[39m \u001b[38;5;241m==\u001b[39m \u001b[38;5;124m'\u001b[39m\u001b[38;5;124m__main__\u001b[39m\u001b[38;5;124m'\u001b[39m:\n\u001b[1;32m---> 12\u001b[0m     result \u001b[38;5;241m=\u001b[39m \u001b[43mcumpute_division\u001b[49m\u001b[43m(\u001b[49m\u001b[43m)\u001b[49m\n",
      "Cell \u001b[1;32mIn[15], line 7\u001b[0m, in \u001b[0;36mcumpute_division\u001b[1;34m()\u001b[0m\n\u001b[0;32m      4\u001b[0m dividend \u001b[38;5;241m=\u001b[39m \u001b[38;5;28mint\u001b[39m(\u001b[38;5;28minput\u001b[39m(\u001b[38;5;124m\"\u001b[39m\u001b[38;5;124mEnter the devidend :\u001b[39m\u001b[38;5;124m\"\u001b[39m)) \u001b[38;5;66;03m#cast string to interger\u001b[39;00m\n\u001b[0;32m      5\u001b[0m divisor \u001b[38;5;241m=\u001b[39m \u001b[38;5;28minput\u001b[39m(\u001b[38;5;124m\"\u001b[39m\u001b[38;5;124mEnter the divisor :\u001b[39m\u001b[38;5;124m\"\u001b[39m) \u001b[38;5;66;03m#no cast\u001b[39;00m\n\u001b[1;32m----> 7\u001b[0m result \u001b[38;5;241m=\u001b[39m \u001b[43mdividend\u001b[49m\u001b[38;5;241;43m/\u001b[39;49m\u001b[43mdivisor\u001b[49m\n\u001b[0;32m      9\u001b[0m \u001b[38;5;28mprint\u001b[39m(\u001b[38;5;124m\"\u001b[39m\u001b[38;5;124mThe result of \u001b[39m\u001b[38;5;132;01m{}\u001b[39;00m\u001b[38;5;124m/\u001b[39m\u001b[38;5;132;01m{}\u001b[39;00m\u001b[38;5;124m\"\u001b[39m\u001b[38;5;241m.\u001b[39mformat(dividend,dividor,result))\n",
      "\u001b[1;31mTypeError\u001b[0m: unsupported operand type(s) for /: 'int' and 'str'"
     ]
    }
   ],
   "source": [
    "#Type Error\n",
    "\n",
    "def cumpute_division():\n",
    "    dividend = int(input(\"Enter the devidend :\")) #cast string to interger\n",
    "    divisor = input(\"Enter the divisor :\") #no cast\n",
    "    \n",
    "    result = dividend/divisor\n",
    "    \n",
    "    print(\"The result of {}/{}\".format(dividend,dividor,result))\n",
    "    \n",
    "if __name__ == '__main__':\n",
    "    result = cumpute_division()"
   ]
  },
  {
   "cell_type": "code",
   "execution_count": 4,
   "id": "f5bd47ff",
   "metadata": {},
   "outputs": [
    {
     "name": "stdout",
     "output_type": "stream",
     "text": [
      "Compute Square root of: o\n"
     ]
    },
    {
     "ename": "ValueError",
     "evalue": "invalid literal for int() with base 10: 'o'",
     "output_type": "error",
     "traceback": [
      "\u001b[1;31m---------------------------------------------------------------------------\u001b[0m",
      "\u001b[1;31mValueError\u001b[0m                                Traceback (most recent call last)",
      "Cell \u001b[1;32mIn[4], line 12\u001b[0m\n\u001b[0;32m      8\u001b[0m     \u001b[38;5;28;01mreturn\u001b[39;00m result\n\u001b[0;32m     10\u001b[0m \u001b[38;5;28;01mif\u001b[39;00m \u001b[38;5;18m__name__\u001b[39m \u001b[38;5;241m==\u001b[39m \u001b[38;5;124m'\u001b[39m\u001b[38;5;124m__main__\u001b[39m\u001b[38;5;124m'\u001b[39m:\n\u001b[0;32m     11\u001b[0m     \u001b[38;5;66;03m# get input to compute from user\u001b[39;00m\n\u001b[1;32m---> 12\u001b[0m     number \u001b[38;5;241m=\u001b[39m \u001b[38;5;28;43mint\u001b[39;49m\u001b[43m(\u001b[49m\u001b[38;5;28;43minput\u001b[39;49m\u001b[43m(\u001b[49m\u001b[38;5;124;43m\"\u001b[39;49m\u001b[38;5;124;43mCompute Square root of: \u001b[39;49m\u001b[38;5;124;43m\"\u001b[39;49m\u001b[43m)\u001b[49m\u001b[43m)\u001b[49m\n",
      "\u001b[1;31mValueError\u001b[0m: invalid literal for int() with base 10: 'o'"
     ]
    }
   ],
   "source": [
    "#Attribute error\n",
    "\n",
    "import math\n",
    " \n",
    "def compute_square_root(number):\n",
    "    result = math.sqr(number)\n",
    "    return result\n",
    " \n",
    "if __name__ == '__main__':\n",
    "    number = int(input(\"Compute square root of :\"))"
   ]
  },
  {
   "cell_type": "code",
   "execution_count": 11,
   "id": "ddb4a255",
   "metadata": {},
   "outputs": [
    {
     "name": "stdout",
     "output_type": "stream",
     "text": [
      "Enter the First Angle of Triangle :52\n",
      "Enter the Second Angle of Triangle :42\n",
      "Enter the Third Angle of Triangle :08\n",
      "This is not right angle for Triangle\n"
     ]
    }
   ],
   "source": [
    "#Example\n",
    "\n",
    "#WAP that take a user input of three angles and will find out whether it can from a triangle or not\n",
    "\n",
    "\n",
    "\n",
    "num1 = int(input(\"Enter the First Angle of Triangle :\"))\n",
    "num2 = int(input(\"Enter the Second Angle of Triangle :\"))\n",
    "num3 = int(input(\"Enter the Third Angle of Triangle :\"))\n",
    "sum = num1+num2+num3\n",
    "if(sum==180):\n",
    "    print(\"This is angle of Triangle\")\n",
    "else:\n",
    "    print(\"This is not right angle for Triangle\")"
   ]
  },
  {
   "cell_type": "code",
   "execution_count": 12,
   "id": "782229e1",
   "metadata": {},
   "outputs": [
    {
     "name": "stdout",
     "output_type": "stream",
     "text": [
      "Enter the First Angle of Triangle :50\n",
      "Enter the Second Angle of Triangle :50\n",
      "Enter the Third Angle of Triangle :80\n",
      "This is angle of Triangle\n"
     ]
    }
   ],
   "source": [
    "num1 = int(input(\"Enter the First Angle of Triangle :\"))\n",
    "num2 = int(input(\"Enter the Second Angle of Triangle :\"))\n",
    "num3 = int(input(\"Enter the Third Angle of Triangle :\"))\n",
    "sum = num1+num2+num3\n",
    "if(sum==180):\n",
    "    print(\"This is angle of Triangle\")\n",
    "else:\n",
    "    print(\"This is not right angle for Triangle\")"
   ]
  },
  {
   "cell_type": "code",
   "execution_count": 14,
   "id": "2e9a2001",
   "metadata": {},
   "outputs": [
    {
     "name": "stdout",
     "output_type": "stream",
     "text": [
      "Enter the Cost Price :500\n",
      "Enter the Selling Price :600\n",
      "its a profit\n"
     ]
    }
   ],
   "source": [
    "#WAP that will take user input cost price and selling price and determines whether it is loss or a profit\n",
    "\n",
    "num1 = int(input(\"Enter the Cost Price :\"))\n",
    "num2 = int(input(\"Enter the Selling Price :\"))\n",
    "\n",
    "if (num1>num2):\n",
    "    print(\"its a loss\")\n",
    "else:\n",
    "    print(\"its a profit\")"
   ]
  },
  {
   "cell_type": "code",
   "execution_count": 15,
   "id": "66984b5c",
   "metadata": {},
   "outputs": [
    {
     "name": "stdout",
     "output_type": "stream",
     "text": [
      "Enter the Cost Price :500\n",
      "Enter the Selling Price :200\n",
      "its a loss\n"
     ]
    }
   ],
   "source": [
    "num1 = int(input(\"Enter the Cost Price :\"))\n",
    "num2 = int(input(\"Enter the Selling Price :\"))\n",
    "\n",
    "if (num1>num2):\n",
    "    print(\"its a loss\")\n",
    "else:\n",
    "    print(\"its a profit\")"
   ]
  },
  {
   "cell_type": "code",
   "execution_count": 7,
   "id": "c07e9c2d",
   "metadata": {},
   "outputs": [
    {
     "name": "stdout",
     "output_type": "stream",
     "text": [
      "[Errno 2] No such file or directory: 'hello.txt'\n",
      "Welcome to file system\n"
     ]
    }
   ],
   "source": [
    "try:\n",
    "    with open(\"hello.txt\",'r') as f:\n",
    "        data = f.read()\n",
    "except FileNotFoundError as e:\n",
    "    print(e)\n",
    "    \n",
    "print(\"Welcome to file system\")"
   ]
  },
  {
   "cell_type": "code",
   "execution_count": 8,
   "id": "3ae37a0d",
   "metadata": {},
   "outputs": [],
   "source": [
    "with open(\"hello.txt\",'w') as f:\n",
    "    data = f.write(\"Welcome to file system\")"
   ]
  },
  {
   "cell_type": "code",
   "execution_count": 9,
   "id": "198fe934",
   "metadata": {},
   "outputs": [],
   "source": [
    "with open(\"hello.txt\",'a') as f:\n",
    "    data = f.write(\" with data analtics\")"
   ]
  },
  {
   "cell_type": "code",
   "execution_count": null,
   "id": "5f15b31e",
   "metadata": {},
   "outputs": [],
   "source": [
    "# Exception Handling :\n",
    "    \n",
    "#     try\n",
    "#     except\n",
    "#     else\n",
    "#     finally"
   ]
  },
  {
   "cell_type": "code",
   "execution_count": null,
   "id": "c4f5cc3d",
   "metadata": {},
   "outputs": [],
   "source": []
  },
  {
   "cell_type": "code",
   "execution_count": null,
   "id": "95629a57",
   "metadata": {},
   "outputs": [],
   "source": [
    "#6/7/23\n",
    "\n",
    "#File Handling\n",
    " # in another file "
   ]
  }
 ],
 "metadata": {
  "kernelspec": {
   "display_name": "Python 3 (ipykernel)",
   "language": "python",
   "name": "python3"
  },
  "language_info": {
   "codemirror_mode": {
    "name": "ipython",
    "version": 3
   },
   "file_extension": ".py",
   "mimetype": "text/x-python",
   "name": "python",
   "nbconvert_exporter": "python",
   "pygments_lexer": "ipython3",
   "version": "3.11.4"
  }
 },
 "nbformat": 4,
 "nbformat_minor": 5
}
