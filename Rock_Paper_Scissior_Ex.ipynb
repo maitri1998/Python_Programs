{
 "cells": [
  {
   "cell_type": "code",
   "execution_count": 4,
   "id": "f6339870-5767-428e-ad62-307958956ad2",
   "metadata": {},
   "outputs": [
    {
     "name": "stdin",
     "output_type": "stream",
     "text": [
      "Enter your Choice from option : paper\n"
     ]
    },
    {
     "name": "stdout",
     "output_type": "stream",
     "text": [
      "Your Choice is : paper\n",
      "Computer Choice is : rock\n",
      "Result : Bad Luck Computer wins!\n"
     ]
    }
   ],
   "source": [
    "# Example : Rock Paper Scissior \n",
    "\n",
    "import random \n",
    "\n",
    "Option = [\"rock\", \"paper\", \"scissor\"]\n",
    "choice = input(\"Enter your Choice from option :\")\n",
    "choice = choice.lower()\n",
    "computer = random.choice(Option)\n",
    "\n",
    "print(f'Your Choice is : {choice}')\n",
    "print(f'Computer Choice is : {computer}')\n",
    "\n",
    "if (choice == computer):\n",
    "    print(\"Result : Tie\")\n",
    "elif (choice == \"Rock\" and computer == \"Scissor\"):\n",
    "    print(\"Result : You win\")\n",
    "elif (choice == \"Paper\" and computer == \"Rock\"):\n",
    "    print(\"Result : You win\")\n",
    "elif (choice == \"Scissor\" and computer == \"Paper\"):\n",
    "    print(\"Result : You win\")\n",
    "else:\n",
    "    print(\"Result : Bad Luck Computer wins!\")"
   ]
  }
 ],
 "metadata": {
  "kernelspec": {
   "display_name": "Python 3 (ipykernel)",
   "language": "python",
   "name": "python3"
  },
  "language_info": {
   "codemirror_mode": {
    "name": "ipython",
    "version": 3
   },
   "file_extension": ".py",
   "mimetype": "text/x-python",
   "name": "python",
   "nbconvert_exporter": "python",
   "pygments_lexer": "ipython3",
   "version": "3.11.4"
  }
 },
 "nbformat": 4,
 "nbformat_minor": 5
}
